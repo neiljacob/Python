{
 "cells": [
  {
   "cell_type": "markdown",
   "metadata": {},
   "source": [
    "# Glob Module"
   ]
  },
  {
   "cell_type": "code",
   "execution_count": 1,
   "metadata": {
    "collapsed": true
   },
   "outputs": [],
   "source": [
    "import glob"
   ]
  },
  {
   "cell_type": "code",
   "execution_count": 2,
   "metadata": {
    "collapsed": true
   },
   "outputs": [],
   "source": [
    "result = glob.glob('/etc/*.conf')"
   ]
  },
  {
   "cell_type": "code",
   "execution_count": 3,
   "metadata": {},
   "outputs": [
    {
     "name": "stdout",
     "output_type": "stream",
     "text": [
      "['/etc/asl.conf', '/etc/autofs.conf', '/etc/dnsextd.conf', '/etc/ftpd.conf', '/etc/kern_loader.conf', '/etc/man.conf', '/etc/newsyslog.conf', '/etc/nfs.conf', '/etc/notify.conf', '/etc/ntp-restrict.conf', '/etc/ntp.conf', '/etc/ntp_opendirectory.conf', '/etc/pf.conf', '/etc/resolv.conf', '/etc/rtadvd.conf', '/etc/syslog.conf']\n"
     ]
    }
   ],
   "source": [
    "print(result)"
   ]
  },
  {
   "cell_type": "code",
   "execution_count": 6,
   "metadata": {
    "collapsed": true
   },
   "outputs": [],
   "source": [
    "result = glob.glob('/etc/[a-f]*.conf')"
   ]
  },
  {
   "cell_type": "code",
   "execution_count": 7,
   "metadata": {},
   "outputs": [
    {
     "name": "stdout",
     "output_type": "stream",
     "text": [
      "['/etc/asl.conf', '/etc/autofs.conf', '/etc/dnsextd.conf', '/etc/ftpd.conf']\n"
     ]
    }
   ],
   "source": [
    "print(result)"
   ]
  },
  {
   "cell_type": "markdown",
   "metadata": {},
   "source": [
    "# Changing File/Directory Permission"
   ]
  },
  {
   "cell_type": "code",
   "execution_count": 9,
   "metadata": {},
   "outputs": [],
   "source": [
    "import os\n",
    "os.chmod('/tmp/data',0o777)"
   ]
  },
  {
   "cell_type": "markdown",
   "metadata": {},
   "source": [
    "# KeyWord Arguments"
   ]
  },
  {
   "cell_type": "code",
   "execution_count": 10,
   "metadata": {},
   "outputs": [
    {
     "name": "stdout",
     "output_type": "stream",
     "text": [
      "ssh clado@192.168.0.10 -p 22\n"
     ]
    }
   ],
   "source": [
    "\n",
    "def sshConnect(ip,port,user):\n",
    "    conString = 'ssh '+user+'@'+ip+' -p '+port\n",
    "    print(conString)\n",
    "    \n",
    "sshConnect('192.168.0.10','22','clado')    "
   ]
  },
  {
   "cell_type": "code",
   "execution_count": 18,
   "metadata": {},
   "outputs": [
    {
     "name": "stdout",
     "output_type": "stream",
     "text": [
      "ip 192.168.0.10\n",
      "**kwargs {'port': '22', 'user': 'clado'}\n",
      "ip 192.168.0.10\n",
      "**kwargs {'user': 'root', 'port': '22'}\n",
      "ip 1.1.1.1\n",
      "**kwargs {}\n"
     ]
    }
   ],
   "source": [
    "def sshConnect(ip,**kwargs):\n",
    "    print('ip',ip)\n",
    "    print('**kwargs',kwargs)\n",
    "    \n",
    "sshConnect('192.168.0.10',port='22',user='clado')        \n",
    "sshConnect('192.168.0.10',user='root',port='22') \n",
    "sshConnect('1.1.1.1')"
   ]
  },
  {
   "cell_type": "code",
   "execution_count": 19,
   "metadata": {},
   "outputs": [
    {
     "name": "stdout",
     "output_type": "stream",
     "text": [
      "ip 192.168.0.10\n",
      "**kwargs {'port': '22', 'user': 'clado'}\n",
      "ip 192.168.0.10\n",
      "**kwargs {'user': 'root', 'port': '22'}\n",
      "ip 1.1.1.1\n",
      "**kwargs {}\n"
     ]
    }
   ],
   "source": [
    "def sshConnect(ip,**kwargs):\n",
    "    print('ip',ip)\n",
    "    print('**kwargs',kwargs)\n",
    "    \n",
    "sshConnect('192.168.0.10',port='22',user='clado')        \n",
    "sshConnect('192.168.0.10',user='root',port='22') \n",
    "sshConnect('1.1.1.1')"
   ]
  },
  {
   "cell_type": "code",
   "execution_count": 24,
   "metadata": {},
   "outputs": [
    {
     "name": "stdout",
     "output_type": "stream",
     "text": [
      "ssh clado@192.168.0.10 -p 22\n"
     ]
    }
   ],
   "source": [
    "def sshConnect(ip,port,user):\n",
    "    conString = 'ssh '+user+'@'+ip+' -p '+port\n",
    "    print(conString)\n",
    "    \n",
    "sshConnect('192.168.0.10',port='22',user='clado')        \n",
    "\n"
   ]
  },
  {
   "cell_type": "code",
   "execution_count": 29,
   "metadata": {},
   "outputs": [
    {
     "name": "stdout",
     "output_type": "stream",
     "text": [
      "ssh root@192.168.0.10 -p 22\n",
      "ssh clado@10.134.56.78 -p 22\n",
      "ssh hacker@78.93.123.45 -p 2020\n"
     ]
    }
   ],
   "source": [
    "\"\"\"sshConnect(ip,*,user='root',port='22')\"\"\"\n",
    "def sshConnect(ip,**kwargs):\n",
    "    HOST = ip\n",
    "    PORT = kwargs.get('port','22')\n",
    "    USER = kwargs.get('user','root')\n",
    "    sshConString = 'ssh '+USER+'@'+HOST+' -p '+PORT\n",
    "    print(sshConString)\n",
    "    \n",
    "sshConnect('192.168.0.10')\n",
    "sshConnect('10.134.56.78',user='clado')\n",
    "sshConnect('78.93.123.45',user='hacker',port='2020')"
   ]
  },
  {
   "cell_type": "code",
   "execution_count": 37,
   "metadata": {},
   "outputs": [
    {
     "name": "stdout",
     "output_type": "stream",
     "text": [
      "ssh root@192.168.0.10 -p 22\n",
      "ssh clado@10.134.56.78 -p 22\n",
      "ssh hacker@78.93.123.45 -p 2020\n"
     ]
    }
   ],
   "source": [
    "\"\"\"sshConnect(ip,*,user='root',port='22')\"\"\"\n",
    "\n",
    "def sshConnect(ip,*,user='root',port='22'):\n",
    "    HOST = ip\n",
    "    PORT = port\n",
    "    USER = user\n",
    "    sshConString = 'ssh '+USER+'@'+HOST+' -p '+PORT\n",
    "    print(sshConString)\n",
    "sshConnect('192.168.0.10')\n",
    "sshConnect('10.134.56.78',user='clado')\n",
    "sshConnect('78.93.123.45',user='hacker',port='2020')"
   ]
  },
  {
   "cell_type": "code",
   "execution_count": 38,
   "metadata": {},
   "outputs": [
    {
     "name": "stdout",
     "output_type": "stream",
     "text": [
      "1\n",
      "2\n",
      "3\n",
      "4\n",
      "5\n",
      "6\n",
      "7\n",
      "8\n",
      "9\n",
      "10\n"
     ]
    }
   ],
   "source": [
    "START = 1\n",
    "\n",
    "while START <= 10:\n",
    "    print(START)\n",
    "    START += 1"
   ]
  },
  {
   "cell_type": "code",
   "execution_count": null,
   "metadata": {
    "collapsed": true
   },
   "outputs": [],
   "source": []
  }
 ],
 "metadata": {
  "kernelspec": {
   "display_name": "Python 3",
   "language": "python",
   "name": "python3"
  },
  "language_info": {
   "codemirror_mode": {
    "name": "ipython",
    "version": 3
   },
   "file_extension": ".py",
   "mimetype": "text/x-python",
   "name": "python",
   "nbconvert_exporter": "python",
   "pygments_lexer": "ipython3",
   "version": "3.6.1"
  }
 },
 "nbformat": 4,
 "nbformat_minor": 2
}
