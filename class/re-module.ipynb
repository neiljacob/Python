{
 "cells": [
  {
   "cell_type": "code",
   "execution_count": 1,
   "metadata": {},
   "outputs": [
    {
     "name": "stdout",
     "output_type": "stream",
     "text": [
      "<_sre.SRE_Match object; span=(0, 1), match='c'>\n"
     ]
    }
   ],
   "source": [
    "import re\n",
    "result = re.search(r'[a-z]','clado')\n",
    "print(result)"
   ]
  },
  {
   "cell_type": "code",
   "execution_count": 2,
   "metadata": {},
   "outputs": [
    {
     "name": "stdout",
     "output_type": "stream",
     "text": [
      "['c', 'l', 'a', 'd', 'o']\n"
     ]
    }
   ],
   "source": [
    "import re\n",
    "result = re.findall(r'[a-z]','clado')\n",
    "print(result)"
   ]
  },
  {
   "cell_type": "code",
   "execution_count": 4,
   "metadata": {},
   "outputs": [
    {
     "name": "stdout",
     "output_type": "stream",
     "text": [
      "<_sre.SRE_Match object; span=(0, 5), match='clado'>\n"
     ]
    }
   ],
   "source": [
    "import re\n",
    "result = re.search(r'[a-z]+','clado')\n",
    "print(result)"
   ]
  },
  {
   "cell_type": "code",
   "execution_count": 5,
   "metadata": {},
   "outputs": [
    {
     "name": "stdout",
     "output_type": "stream",
     "text": [
      "<_sre.SRE_Match object; span=(0, 1), match='c'>\n"
     ]
    }
   ],
   "source": [
    "import re\n",
    "result = re.search(r'[a-z]+','c')\n",
    "print(result)"
   ]
  },
  {
   "cell_type": "code",
   "execution_count": 6,
   "metadata": {},
   "outputs": [
    {
     "name": "stdout",
     "output_type": "stream",
     "text": [
      "None\n"
     ]
    }
   ],
   "source": [
    "import re\n",
    "result = re.search(r'[a-z]+','') # r'[a-z]{1,}'\n",
    "print(result)"
   ]
  },
  {
   "cell_type": "code",
   "execution_count": 7,
   "metadata": {},
   "outputs": [
    {
     "name": "stdout",
     "output_type": "stream",
     "text": [
      "<_sre.SRE_Match object; span=(0, 0), match=''>\n"
     ]
    }
   ],
   "source": [
    "import re\n",
    "result = re.search(r'[a-z]*','') # r'[a-z]{0,}'\n",
    "print(result)"
   ]
  },
  {
   "cell_type": "code",
   "execution_count": 8,
   "metadata": {},
   "outputs": [
    {
     "name": "stdout",
     "output_type": "stream",
     "text": [
      "<_sre.SRE_Match object; span=(0, 1), match='1'>\n"
     ]
    }
   ],
   "source": [
    "import re\n",
    "result = re.search(r'[0-9]','12345')\n",
    "print(result)"
   ]
  },
  {
   "cell_type": "code",
   "execution_count": 9,
   "metadata": {},
   "outputs": [
    {
     "name": "stdout",
     "output_type": "stream",
     "text": [
      "<_sre.SRE_Match object; span=(0, 3), match='123'>\n"
     ]
    }
   ],
   "source": [
    "import re\n",
    "result = re.search(r'[0-9]{3}','12345')\n",
    "print(result)"
   ]
  },
  {
   "cell_type": "code",
   "execution_count": 10,
   "metadata": {},
   "outputs": [
    {
     "name": "stdout",
     "output_type": "stream",
     "text": [
      "<_sre.SRE_Match object; span=(0, 3), match='123'>\n"
     ]
    }
   ],
   "source": [
    "import re\n",
    "result = re.search(r'[0-9]{0,3}','12345')\n",
    "print(result)"
   ]
  },
  {
   "cell_type": "code",
   "execution_count": 11,
   "metadata": {},
   "outputs": [
    {
     "name": "stdout",
     "output_type": "stream",
     "text": [
      "<_sre.SRE_Match object; span=(0, 1), match='1'>\n"
     ]
    }
   ],
   "source": [
    "import re\n",
    "result = re.search(r'\\d','12345')\n",
    "print(result)"
   ]
  },
  {
   "cell_type": "code",
   "execution_count": 14,
   "metadata": {},
   "outputs": [
    {
     "name": "stdout",
     "output_type": "stream",
     "text": [
      "None\n"
     ]
    }
   ],
   "source": [
    "import re\n",
    "result = re.search(r'19[0-5]','197')\n",
    "print(result)"
   ]
  },
  {
   "cell_type": "code",
   "execution_count": 16,
   "metadata": {},
   "outputs": [
    {
     "name": "stdout",
     "output_type": "stream",
     "text": [
      "['a', 'b', 'c', 'A', 'B', 'C', '1', '2', '3', '_']\n"
     ]
    }
   ],
   "source": [
    "import re\n",
    "result = re.findall(r'\\w','abcABC123_#@')\n",
    "print(result)"
   ]
  },
  {
   "cell_type": "code",
   "execution_count": 20,
   "metadata": {},
   "outputs": [
    {
     "name": "stdout",
     "output_type": "stream",
     "text": [
      "['color', 'colur']\n"
     ]
    }
   ],
   "source": [
    "import re\n",
    "result = re.findall(r'col[ou]r','color colur')\n",
    "print(result)"
   ]
  },
  {
   "cell_type": "code",
   "execution_count": 22,
   "metadata": {},
   "outputs": [
    {
     "name": "stdout",
     "output_type": "stream",
     "text": [
      "['Color', 'color']\n"
     ]
    }
   ],
   "source": [
    "import re\n",
    "result = re.findall(r'[Cc]olor','Color color')\n",
    "print(result)"
   ]
  },
  {
   "cell_type": "code",
   "execution_count": 24,
   "metadata": {},
   "outputs": [
    {
     "name": "stdout",
     "output_type": "stream",
     "text": [
      "['color', 'colur', 'colir', 'colar']\n"
     ]
    }
   ],
   "source": [
    "import re\n",
    "result = re.findall(r'col.r','color colur colir colar col\\nr')\n",
    "print(result)"
   ]
  },
  {
   "cell_type": "code",
   "execution_count": 26,
   "metadata": {},
   "outputs": [
    {
     "name": "stdout",
     "output_type": "stream",
     "text": [
      "['color', 'colur', 'colir', 'colr']\n"
     ]
    }
   ],
   "source": [
    "import re\n",
    "result = re.findall(r'col.?r','color colur colir colr ')\n",
    "print(result)"
   ]
  },
  {
   "cell_type": "code",
   "execution_count": 30,
   "metadata": {},
   "outputs": [
    {
     "name": "stdout",
     "output_type": "stream",
     "text": [
      "['clado']\n"
     ]
    }
   ],
   "source": [
    "import re\n",
    "result = re.findall(r'\\Aclado\\Z','clado')\n",
    "print(result)"
   ]
  },
  {
   "cell_type": "markdown",
   "metadata": {},
   "source": [
    "webaddress = \"\"\"\n",
    "             http://www.google.com \n",
    "             https://www.kernel.org \n",
    "             https://www.yahoo.co.in\n",
    "             www.google.co.in\n",
    "             \"\"\"\n",
    "             \n",
    "import re\n",
    "re.findall(r'https?://[a-zA-Z0-9.-]+')"
   ]
  },
  {
   "cell_type": "code",
   "execution_count": 33,
   "metadata": {},
   "outputs": [
    {
     "data": {
      "text/plain": [
       "['http', 'https', 'https']"
      ]
     },
     "execution_count": 33,
     "metadata": {},
     "output_type": "execute_result"
    }
   ],
   "source": [
    "webaddress = \"\"\"\n",
    "                http://www.google.com \n",
    "                https://www.kernel.org\n",
    "                https://www.yahoo.co.in \n",
    "                www.google.co.in \n",
    "                \n",
    "                \"\"\"\n",
    "import re \n",
    "re.findall(r'(https?)?://[a-zA-Z0-9.-]+',webaddress)\n"
   ]
  },
  {
   "cell_type": "code",
   "execution_count": null,
   "metadata": {
    "collapsed": true
   },
   "outputs": [],
   "source": [
    "import re\n",
    "myStrings = \"10-23-2017\"\n",
    "\n",
    "result = re.search(r'\\d{2}\\-\\d{2}\\-\\d{4}',myStrings)\n",
    "\n",
    "whole = result.group(0)\n",
    "month  = result.group('month')\n",
    "date = result.group('date')\n",
    "year = result.group('year')\n",
    "\n",
    "print('Full Match :',whole)\n",
    "print('Month :',month)\n",
    "print('Date :',date)\n",
    "print('Year :',year)"
   ]
  },
  {
   "cell_type": "code",
   "execution_count": 45,
   "metadata": {},
   "outputs": [
    {
     "name": "stdout",
     "output_type": "stream",
     "text": [
      "www.google.com/index.html\n",
      "name=10&student='name/clado/stu/a'\n",
      "www.clado.co.im/users.html\n",
      "name=10&student='name/'\n",
      "www.redhat.co.in/logs.html\n",
      "name=10&student='name/'\n"
     ]
    }
   ],
   "source": [
    "links = \"\"\"\n",
    "    https://www.google.com/index.html?name=10&student='name/clado/stu/a'\n",
    "    http://www.clado.co.im/users.html?name=10&student='name/'\n",
    "    http://www.redhat.co.in/logs.html?name=10&student='name/'\n",
    "\"\"\"\n",
    "\n",
    "import re\n",
    "for link in links.split():\n",
    "    result = re.search(r'https?://(?P<domain>.*?)\\?(?P<qstring>.*)',link)\n",
    "    print(result.group('domain'))\n",
    "    print(result.group('qstring'))"
   ]
  },
  {
   "cell_type": "code",
   "execution_count": 62,
   "metadata": {},
   "outputs": [
    {
     "name": "stdout",
     "output_type": "stream",
     "text": [
      "180.76.15.30 - - [24/Mar/2017:19:37:57 +0000] \"GET /shop/page/32/?count=15&orderby=title&add_to_wishlist=4846 HTTP/1.1\" 404 10202\n"
     ]
    }
   ],
   "source": [
    "import re\n",
    "logLine = \"\"\"\n",
    "            180.76.15.30 - - [24/Mar/2017:19:37:57 +0000] \"GET /shop/page/32/?count=15&orderby=title&add_to_wishlist=4846 HTTP/1.1\" 404 10202 \"-\" \"Mozilla/5.0 (compatible; Baiduspider/2.0;\n",
    "            +http://www.baidu.com/search/spider.html)\n",
    "         \"\"\"\n",
    "\n",
    "IP = r'\\d{1,3}\\.\\d{1,3}\\.\\d{1,3}\\.\\d{1,3}'\n",
    "SPACE = r'\\s+'\n",
    "DASH = r'\\S+'\n",
    "TIMESTAMP = r'\\[.*?\\]'\n",
    "REQUEST = r'\\\".*?\\\"'\n",
    "STATUS = r'\\d{3}'\n",
    "SIZE = r'\\d+'\n",
    "result = re.search(IP+SPACE+DASH+SPACE+DASH+SPACE+TIMESTAMP+SPACE+REQUEST+SPACE+STATUS+SPACE+SIZE,logLine)\n",
    "print(result.group(0))"
   ]
  },
  {
   "cell_type": "code",
   "execution_count": null,
   "metadata": {
    "collapsed": true
   },
   "outputs": [],
   "source": []
  }
 ],
 "metadata": {
  "kernelspec": {
   "display_name": "Python 3",
   "language": "python",
   "name": "python3"
  },
  "language_info": {
   "codemirror_mode": {
    "name": "ipython",
    "version": 3
   },
   "file_extension": ".py",
   "mimetype": "text/x-python",
   "name": "python",
   "nbconvert_exporter": "python",
   "pygments_lexer": "ipython3",
   "version": "3.6.1"
  }
 },
 "nbformat": 4,
 "nbformat_minor": 2
}
