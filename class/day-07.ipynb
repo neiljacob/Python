{
 "cells": [
  {
   "cell_type": "code",
   "execution_count": 1,
   "metadata": {},
   "outputs": [
    {
     "name": "stdout",
     "output_type": "stream",
     "text": [
      "7\n",
      "0\n"
     ]
    }
   ],
   "source": [
    "def adder(x=0,y=0):\n",
    "    print(x+y)\n",
    "\n",
    "adder(5,2)\n",
    "adder()"
   ]
  },
  {
   "cell_type": "code",
   "execution_count": 2,
   "metadata": {},
   "outputs": [
    {
     "name": "stdout",
     "output_type": "stream",
     "text": [
      "From Function : 7\n",
      "None\n"
     ]
    }
   ],
   "source": [
    "def adder(x=0,y=0):\n",
    "    print('From Function :',x+y)\n",
    "\n",
    "result = adder(5,2)\n",
    "print(result)"
   ]
  },
  {
   "cell_type": "code",
   "execution_count": 5,
   "metadata": {},
   "outputs": [
    {
     "name": "stdout",
     "output_type": "stream",
     "text": [
      "7\n"
     ]
    }
   ],
   "source": [
    "def adder(x=0,y=0):\n",
    "    return  x+y\n",
    "\n",
    "result = adder(5,2)\n",
    "print(result)"
   ]
  },
  {
   "cell_type": "code",
   "execution_count": 4,
   "metadata": {},
   "outputs": [
    {
     "name": "stdout",
     "output_type": "stream",
     "text": [
      "START\n",
      "7\n"
     ]
    }
   ],
   "source": [
    "def adder(x=0,y=0):\n",
    "    print('START')\n",
    "    return  x+y\n",
    "    print('END')\n",
    "\n",
    "result = adder(5,2)\n",
    "print(result)"
   ]
  },
  {
   "cell_type": "code",
   "execution_count": 2,
   "metadata": {},
   "outputs": [
    {
     "name": "stdout",
     "output_type": "stream",
     "text": [
      "clado\n",
      "{'a': 2, 'b': 1, 'c': 1, 'd': 1, 'e': 2}\n"
     ]
    }
   ],
   "source": [
    "mylist = ['a' , 'a' , 'b' , 'c' , 'd' , 'e' , 'e']\n",
    "\n",
    "def get_count(l):\n",
    "    print(name)\n",
    "    countDict = {}\n",
    "    for letter in l:\n",
    "       countDict[letter] = countDict.get(letter,0)+1\n",
    "    return countDict\n",
    "\n",
    "name = 'clado'\n",
    "result = get_count(mylist)\n",
    "#print(countDict)\n",
    "print(result)"
   ]
  },
  {
   "cell_type": "code",
   "execution_count": 4,
   "metadata": {},
   "outputs": [
    {
     "name": "stdout",
     "output_type": "stream",
     "text": [
      "dict_keys(['a', 'b', 'c', 'd', 'e'])\n",
      "dict_values([2, 1, 1, 1, 2])\n"
     ]
    }
   ],
   "source": [
    "d = {'a': 2, 'b': 1, 'c': 1, 'd': 1, 'e': 2}\n",
    "keys = d.keys()\n",
    "values = d.values()\n",
    "print(keys)\n",
    "print(values)"
   ]
  },
  {
   "cell_type": "code",
   "execution_count": 16,
   "metadata": {},
   "outputs": [
    {
     "name": "stdout",
     "output_type": "stream",
     "text": [
      "['a', 'b', 'c', 'd', 'e']\n",
      "[2, 1, 1, 1, 2]\n"
     ]
    }
   ],
   "source": [
    "d = {'a': 2, 'b': 1, 'c': 1, 'd': 1, 'e': 2}\n",
    "keys = d.keys()\n",
    "values = d.values()\n",
    "print(list(keys))\n",
    "print(list(values))\n"
   ]
  },
  {
   "cell_type": "code",
   "execution_count": 17,
   "metadata": {},
   "outputs": [
    {
     "name": "stdout",
     "output_type": "stream",
     "text": [
      "dict_items([('a', 2), ('b', 1), ('c', 1), ('d', 1), ('e', 2)])\n"
     ]
    }
   ],
   "source": [
    "d = {'a': 2, 'b': 1, 'c': 1, 'd': 1, 'e': 2}\n",
    "i = d.items()\n",
    "print(i)"
   ]
  },
  {
   "cell_type": "code",
   "execution_count": 18,
   "metadata": {},
   "outputs": [
    {
     "name": "stdout",
     "output_type": "stream",
     "text": [
      "dict_items([('a', [2, 20]), ('b', [1, 10]), ('c', [1, 100]), ('d', [4, 400]), ('e', [2, 20])])\n"
     ]
    }
   ],
   "source": [
    "d = {'a': [2,20] , 'b': [1,10], 'c': [1,100] , 'd': [4,400] , 'e': [2,20]}\n",
    "i = d.items()\n",
    "print(i)\n"
   ]
  },
  {
   "cell_type": "code",
   "execution_count": 5,
   "metadata": {},
   "outputs": [
    {
     "name": "stdout",
     "output_type": "stream",
     "text": [
      "names : ['clado', 'axe', 'stallman']\n"
     ]
    }
   ],
   "source": [
    "names = \"clado axe    stallman\".split()\n",
    "print('names :',names)"
   ]
  },
  {
   "cell_type": "code",
   "execution_count": 6,
   "metadata": {},
   "outputs": [
    {
     "name": "stdout",
     "output_type": "stream",
     "text": [
      "['axe', 'clado', 'stallman']\n"
     ]
    }
   ],
   "source": [
    "result = sorted(names,key=len)\n",
    "print(result)"
   ]
  },
  {
   "cell_type": "code",
   "execution_count": 8,
   "metadata": {},
   "outputs": [
    {
     "name": "stdout",
     "output_type": "stream",
     "text": [
      "names : ['clado', 'axe', 'cat', 'robin', 'alex', 'richard', 'stallman']\n"
     ]
    }
   ],
   "source": [
    "names = \"clado axe cat robin alex richard stallman\".split()\n",
    "print('names :',names)"
   ]
  },
  {
   "cell_type": "code",
   "execution_count": 9,
   "metadata": {},
   "outputs": [
    {
     "name": "stdout",
     "output_type": "stream",
     "text": [
      "['richard', 'axe', 'robin', 'stallman', 'clado', 'cat', 'alex']\n"
     ]
    }
   ],
   "source": [
    "\n",
    "def get_last_char(s):\n",
    "    return s[-1]\n",
    "\n",
    "result = sorted(names,key=get_last_char)\n",
    "print(result)"
   ]
  },
  {
   "cell_type": "code",
   "execution_count": 30,
   "metadata": {},
   "outputs": [
    {
     "name": "stdout",
     "output_type": "stream",
     "text": [
      "[('b', 11), ('d', 12), ('c', 14), ('a', 21), ('e', 29)]\n"
     ]
    }
   ],
   "source": [
    "ranks = [ ('a', 21) , ('b', 11) , ('c', 14) , ('d', 12) , ('e', 29) ] \n",
    "\n",
    "def get_rank(t):\n",
    "    return t[1]\n",
    "\n",
    "result = sorted(ranks,key=get_rank)\n",
    "print(result)"
   ]
  },
  {
   "cell_type": "code",
   "execution_count": 10,
   "metadata": {},
   "outputs": [
    {
     "name": "stdout",
     "output_type": "stream",
     "text": [
      "['1956-11-23', '1976-10-15', '1930-9-25', '1920-3-3']\n"
     ]
    }
   ],
   "source": [
    "\n",
    "dob = \"1956-11-23 1976-10-15 1930-9-25 1920-3-3\".split()\n",
    "print(dob)"
   ]
  },
  {
   "cell_type": "code",
   "execution_count": 12,
   "metadata": {},
   "outputs": [
    {
     "name": "stdout",
     "output_type": "stream",
     "text": [
      "['1920-3-3', '1976-10-15', '1956-11-23', '1930-9-25']\n"
     ]
    }
   ],
   "source": [
    "def get_date(s):\n",
    "    return int(s.split('-')[-1])\n",
    "result = sorted(dob,key=get_date)\n",
    "print(result)"
   ]
  },
  {
   "cell_type": "code",
   "execution_count": 19,
   "metadata": {},
   "outputs": [
    {
     "name": "stdout",
     "output_type": "stream",
     "text": [
      "[['1930-9-25', 'alex'], ['1976-10-15', 'xen'], ['1976-11-23', 'ben']]\n"
     ]
    }
   ],
   "source": [
    "dob =  [ ['1976-10-15','xen'] , ['1976-11-23','ben'], ['1930-9-25','alex'] ]\n",
    "\n",
    "def get_year(l):\n",
    "    return l[0]\n",
    "\n",
    "result = sorted(dob,key=get_year)\n",
    "print(result)\n",
    "#print(result[0][-1])\n",
    "\n"
   ]
  },
  {
   "cell_type": "code",
   "execution_count": 20,
   "metadata": {},
   "outputs": [
    {
     "data": {
      "text/plain": [
       "['1001', '110', '101']"
      ]
     },
     "execution_count": 20,
     "metadata": {},
     "output_type": "execute_result"
    }
   ],
   "source": [
    "sorted(['1001','110','101'],reverse=True , key=int)"
   ]
  },
  {
   "cell_type": "code",
   "execution_count": 40,
   "metadata": {},
   "outputs": [
    {
     "name": "stdout",
     "output_type": "stream",
     "text": [
      "[{'name': 'alex', 'age': 34, 'rank': 12}, {'name': 'james', 'age': 35, 'rank': 9}, {'name': 'sam', 'age': 24, 'rank': 24}, {'name': 'richard', 'age': 32, 'rank': 27}]\n",
      "\n",
      "james\n"
     ]
    }
   ],
   "source": [
    "students = {\n",
    "    '101':{\n",
    "        'name':'alex',\n",
    "        'age':34,\n",
    "        'rank':12\n",
    "    },\n",
    "    \n",
    "    '102':{\n",
    "        'name':'james',\n",
    "        'age':35,\n",
    "        'rank':9\n",
    "    },\n",
    "    \n",
    "    '103':{\n",
    "        'name':'sam',\n",
    "        'age':24,\n",
    "        'rank':24\n",
    "    },\n",
    "    \n",
    "    '104':{\n",
    "        'name':'richard',\n",
    "        'age':32,\n",
    "        'rank':27\n",
    "    }\n",
    "}\n",
    "\n",
    "def get_rank(d):\n",
    "    return d['rank']\n",
    "dict_value = students.values()\n",
    "print(list(dict_value))\n",
    "result = sorted(students.values(),key=get_rank)\n",
    "print()\n",
    "print(result[0]['name'])"
   ]
  },
  {
   "cell_type": "code",
   "execution_count": 46,
   "metadata": {},
   "outputs": [
    {
     "name": "stdout",
     "output_type": "stream",
     "text": [
      "richard\n"
     ]
    }
   ],
   "source": [
    "students = {\n",
    "    '101':{\n",
    "        'name':'alex',\n",
    "        'age':34,\n",
    "        'rank':12\n",
    "    },\n",
    "    \n",
    "    '102':{\n",
    "        'name':'james',\n",
    "        'age':35,\n",
    "        'rank':9\n",
    "    },\n",
    "    \n",
    "    '103':{\n",
    "        'name':'sam',\n",
    "        'age':24,\n",
    "        'rank':24\n",
    "    },\n",
    "    \n",
    "    '104':{\n",
    "        'name':'richard',\n",
    "        'age':32,\n",
    "        'rank':27\n",
    "    }\n",
    "}\n",
    "\n",
    "def get_name_len(d):\n",
    "    return len(d['name'])\n",
    "\n",
    "result = sorted(students.values(),key=get_name_len)\n",
    "print(result[-1]['name'])"
   ]
  },
  {
   "cell_type": "code",
   "execution_count": 49,
   "metadata": {},
   "outputs": [
    {
     "name": "stdout",
     "output_type": "stream",
     "text": [
      "<map object at 0x10bf7a860>\n"
     ]
    },
    {
     "data": {
      "text/plain": [
       "'\\nfor item in result:\\n    print(item)\\n'"
      ]
     },
     "execution_count": 49,
     "metadata": {},
     "output_type": "execute_result"
    }
   ],
   "source": [
    "l = ['clado','axe','rayan']\n",
    "\n",
    "def make_upper(s):\n",
    "    return s.upper()\n",
    "\n",
    "result = map(make_upper,l)\n",
    "print(result)\n",
    "\n",
    "\n",
    "for item in result:\n",
    "    print(item)   "
   ]
  },
  {
   "cell_type": "code",
   "execution_count": 50,
   "metadata": {},
   "outputs": [
    {
     "name": "stdout",
     "output_type": "stream",
     "text": [
      "alex\n",
      "james\n",
      "sam\n",
      "richard\n"
     ]
    }
   ],
   "source": [
    "students = {\n",
    "    '101':{\n",
    "        'name':'alex',\n",
    "        'age':34,\n",
    "        'rank':12\n",
    "    },\n",
    "    \n",
    "    '102':{\n",
    "        'name':'james',\n",
    "        'age':35,\n",
    "        'rank':9\n",
    "    },\n",
    "    \n",
    "    '103':{\n",
    "        'name':'sam',\n",
    "        'age':24,\n",
    "        'rank':24\n",
    "    },\n",
    "    \n",
    "    '104':{\n",
    "        'name':'richard',\n",
    "        'age':32,\n",
    "        'rank':27\n",
    "    }\n",
    "}\n",
    "\n",
    "def get_name(d):\n",
    "    return d['name']\n",
    "\n",
    "for item in map(get_name,students.values()):\n",
    "    print(item)"
   ]
  },
  {
   "cell_type": "code",
   "execution_count": 54,
   "metadata": {},
   "outputs": [
    {
     "name": "stdout",
     "output_type": "stream",
     "text": [
      "{'alex': {'age': 34, 'name': 'alex', 'rank': 12},\n",
      " 'james': {'age': 35, 'name': 'james', 'rank': 9},\n",
      " 'richard': {'age': 32, 'name': 'richard', 'rank': 27},\n",
      " 'sam': {'age': 24, 'name': 'sam', 'rank': 24}}\n"
     ]
    }
   ],
   "source": [
    "students = {\n",
    "    '101':{\n",
    "        'name':'alex',\n",
    "        'age':34,\n",
    "        'rank':12\n",
    "    },\n",
    "    \n",
    "    '102':{\n",
    "        'name':'james',\n",
    "        'age':35,\n",
    "        'rank':9\n",
    "    },\n",
    "    \n",
    "    '103':{\n",
    "        'name':'sam',\n",
    "        'age':24,\n",
    "        'rank':24\n",
    "    },\n",
    "    \n",
    "    '104':{\n",
    "        'name':'richard',\n",
    "        'age':32,\n",
    "        'rank':27\n",
    "    }\n",
    "}\n",
    "'''\n",
    "students = {\n",
    "    \n",
    "    'alex':{\n",
    "        'name':'alex',\n",
    "        'age':34,\n",
    "        'rank':12\n",
    "    },\n",
    "    \n",
    "    'james':{\n",
    "        'name':'james',\n",
    "        'age':35,\n",
    "        'rank':9\n",
    "    },\n",
    "    \n",
    "    'sam':{\n",
    "        'name':'sam',\n",
    "        'age':24,\n",
    "        'rank':24\n",
    "    },\n",
    "    \n",
    "    'richard':{\n",
    "        'name':'richard',\n",
    "        'age':32,\n",
    "        'rank':27\n",
    "    }\n",
    "}\n",
    "'''\n",
    "result = { d['name']:d for d in students.values() }\n",
    "\n",
    "import pprint\n",
    "pprint.pprint(result)"
   ]
  },
  {
   "cell_type": "code",
   "execution_count": null,
   "metadata": {
    "collapsed": true
   },
   "outputs": [],
   "source": []
  }
 ],
 "metadata": {
  "kernelspec": {
   "display_name": "Python 3",
   "language": "python",
   "name": "python3"
  },
  "language_info": {
   "codemirror_mode": {
    "name": "ipython",
    "version": 3
   },
   "file_extension": ".py",
   "mimetype": "text/x-python",
   "name": "python",
   "nbconvert_exporter": "python",
   "pygments_lexer": "ipython3",
   "version": "3.6.1"
  }
 },
 "nbformat": 4,
 "nbformat_minor": 2
}
