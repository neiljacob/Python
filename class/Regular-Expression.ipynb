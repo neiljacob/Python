{
 "cells": [
  {
   "cell_type": "code",
   "execution_count": 1,
   "metadata": {
    "collapsed": true
   },
   "outputs": [],
   "source": [
    "webaddress = \"\"\"\n",
    "             http://www.google.com \n",
    "             https://www.kernel.org \n",
    "             https://www.yahoo.co.in \n",
    "             www.google.co.in\n",
    "             \"\"\""
   ]
  },
  {
   "cell_type": "code",
   "execution_count": 2,
   "metadata": {},
   "outputs": [
    {
     "data": {
      "text/plain": [
       "['http://www.google.com', 'https://www.kernel.org', 'https://www.yahoo.co.in']"
      ]
     },
     "execution_count": 2,
     "metadata": {},
     "output_type": "execute_result"
    }
   ],
   "source": [
    "import re\n",
    "re.findall(r'https?://[a-zA-Z-.]+',webaddress)"
   ]
  },
  {
   "cell_type": "code",
   "execution_count": 4,
   "metadata": {},
   "outputs": [
    {
     "data": {
      "text/plain": [
       "['http://', 'https://', 'https://', '']"
      ]
     },
     "execution_count": 4,
     "metadata": {},
     "output_type": "execute_result"
    }
   ],
   "source": [
    "import re\n",
    "re.findall(r'(https?://)?[a-zA-Z-.]+',webaddress)"
   ]
  },
  {
   "cell_type": "code",
   "execution_count": 6,
   "metadata": {},
   "outputs": [
    {
     "data": {
      "text/plain": [
       "['http://www.google.com',\n",
       " 'https://www.kernel.org',\n",
       " 'https://www.yahoo.co.in',\n",
       " 'www.google.co.in']"
      ]
     },
     "execution_count": 6,
     "metadata": {},
     "output_type": "execute_result"
    }
   ],
   "source": [
    "import re\n",
    "re.findall(r'(?:https?://)?[a-zA-Z-.]+',webaddress)"
   ]
  },
  {
   "cell_type": "code",
   "execution_count": 124,
   "metadata": {},
   "outputs": [
    {
     "data": {
      "text/plain": [
       "<_sre.SRE_Match object; span=(0, 0), match=''>"
      ]
     },
     "execution_count": 124,
     "metadata": {},
     "output_type": "execute_result"
    }
   ],
   "source": [
    "import re\n",
    "re.search(r'\\A(?=.{8,})(?=.*[a-z])(?=.*[A-Z]?=)(?=.*[!@#$%^&*])','cl1E9a#do123')"
   ]
  },
  {
   "cell_type": "code",
   "execution_count": 105,
   "metadata": {},
   "outputs": [
    {
     "data": {
      "text/plain": [
       "<_sre.SRE_Match object; span=(0, 7), match='clldddl'>"
      ]
     },
     "execution_count": 105,
     "metadata": {},
     "output_type": "execute_result"
    }
   ],
   "source": [
    "import re\n",
    "re.search(r'.*l','clldddl')"
   ]
  },
  {
   "cell_type": "code",
   "execution_count": 131,
   "metadata": {},
   "outputs": [
    {
     "data": {
      "text/plain": [
       "<_sre.SRE_Match object; span=(0, 0), match=''>"
      ]
     },
     "execution_count": 131,
     "metadata": {},
     "output_type": "execute_result"
    }
   ],
   "source": [
    "import re\n",
    "re.search(r'\\A(?=.*[A-Z])','PassWords')"
   ]
  },
  {
   "cell_type": "code",
   "execution_count": 130,
   "metadata": {},
   "outputs": [
    {
     "data": {
      "text/plain": [
       "<_sre.SRE_Match object; span=(0, 0), match=''>"
      ]
     },
     "execution_count": 130,
     "metadata": {},
     "output_type": "execute_result"
    }
   ],
   "source": [
    "import re\n",
    "re.search(r'\\A(?=.*[A-Z])','PassWorDs')"
   ]
  },
  {
   "cell_type": "code",
   "execution_count": 139,
   "metadata": {},
   "outputs": [
    {
     "data": {
      "text/plain": [
       "<_sre.SRE_Match object; span=(0, 0), match=''>"
      ]
     },
     "execution_count": 139,
     "metadata": {},
     "output_type": "execute_result"
    }
   ],
   "source": [
    "import re\n",
    "re.search(r'\\A(?=(?:[^A-Z]*[A-Z]){2}[^A-Z]*\\Z)','PassWorDs')"
   ]
  },
  {
   "cell_type": "code",
   "execution_count": 198,
   "metadata": {},
   "outputs": [
    {
     "data": {
      "text/plain": [
       "<_sre.SRE_Match object; span=(0, 0), match=''>"
      ]
     },
     "execution_count": 198,
     "metadata": {},
     "output_type": "execute_result"
    }
   ],
   "source": [
    "import re\n",
    "re.search(r'\\A(?=(?:[^A-Z]*[A-Z]){2}[^A-Z]*$)','paSSwordz')"
   ]
  },
  {
   "cell_type": "code",
   "execution_count": 196,
   "metadata": {},
   "outputs": [
    {
     "data": {
      "text/plain": [
       "<_sre.SRE_Match object; span=(0, 4), match='1pas'>"
      ]
     },
     "execution_count": 196,
     "metadata": {},
     "output_type": "execute_result"
    }
   ],
   "source": [
    "re.search(r'[^A-Z]*','1pasSworDz')"
   ]
  },
  {
   "cell_type": "code",
   "execution_count": 200,
   "metadata": {},
   "outputs": [
    {
     "data": {
      "text/plain": [
       "<_sre.SRE_Match object; span=(0, 0), match=''>"
      ]
     },
     "execution_count": 200,
     "metadata": {},
     "output_type": "execute_result"
    }
   ],
   "source": [
    "import re\n",
    "re.search(r'\\A(?=.{8,10})(?=.*[A-Z])(?=.*[a-z])(?=.*[~!@#$%^&*()])','P@sswOrd123')"
   ]
  },
  {
   "cell_type": "code",
   "execution_count": 201,
   "metadata": {},
   "outputs": [
    {
     "data": {
      "text/plain": [
       "<_sre.SRE_Match object; span=(0, 0), match=''>"
      ]
     },
     "execution_count": 201,
     "metadata": {},
     "output_type": "execute_result"
    }
   ],
   "source": [
    "import re\n",
    "re.search(r'\\A(?=.{8,10})(?=.*[A-Z])(?=.*[a-z])(?=.*[~!@#$%^&*()])','P@sswOrd123')"
   ]
  },
  {
   "cell_type": "markdown",
   "metadata": {},
   "source": [
    "# Checking If The Password begings with a Capital Letter."
   ]
  },
  {
   "cell_type": "code",
   "execution_count": 208,
   "metadata": {},
   "outputs": [
    {
     "data": {
      "text/plain": [
       "<_sre.SRE_Match object; span=(0, 8), match='Password'>"
      ]
     },
     "execution_count": 208,
     "metadata": {},
     "output_type": "execute_result"
    }
   ],
   "source": [
    "import re\n",
    "re.search(r'\\A(?=[A-Z]).*\\Z','Password')"
   ]
  },
  {
   "cell_type": "markdown",
   "metadata": {},
   "source": [
    "# Checking If The Password Ends with a Capital Letter."
   ]
  },
  {
   "cell_type": "code",
   "execution_count": 223,
   "metadata": {},
   "outputs": [
    {
     "data": {
      "text/plain": [
       "<_sre.SRE_Match object; span=(0, 0), match=''>"
      ]
     },
     "execution_count": 223,
     "metadata": {},
     "output_type": "execute_result"
    }
   ],
   "source": [
    "import re\n",
    "re.search(r'\\A(?=.*?[A-Z]\\Z)','passworD')"
   ]
  },
  {
   "cell_type": "markdown",
   "metadata": {},
   "source": [
    "# Checking If The Password Ends and begins with a Capital Letter."
   ]
  },
  {
   "cell_type": "code",
   "execution_count": 228,
   "metadata": {},
   "outputs": [
    {
     "data": {
      "text/plain": [
       "<_sre.SRE_Match object; span=(0, 0), match=''>"
      ]
     },
     "execution_count": 228,
     "metadata": {},
     "output_type": "execute_result"
    }
   ],
   "source": [
    "import re\n",
    "re.search(r'\\A(?=[A-Z].*?[A-Z]\\Z)','PasswordD')"
   ]
  },
  {
   "cell_type": "code",
   "execution_count": 254,
   "metadata": {},
   "outputs": [
    {
     "data": {
      "text/plain": [
       "['CLADO', 'STUDENT', 'LINUX', 'KALI']"
      ]
     },
     "execution_count": 254,
     "metadata": {},
     "output_type": "execute_result"
    }
   ],
   "source": [
    "import re\n",
    "sampleData = \"1CLADO9STUDENT5LINUX77KALI\"\n",
    "re.findall(r'[A-Z]+',sampleData)"
   ]
  },
  {
   "cell_type": "code",
   "execution_count": 3,
   "metadata": {},
   "outputs": [
    {
     "data": {
      "text/plain": [
       "['color', 'colur', 'colr']"
      ]
     },
     "execution_count": 3,
     "metadata": {},
     "output_type": "execute_result"
    }
   ],
   "source": [
    "import re\n",
    "myStrings = \"color colur colr\"\n",
    "re.findall(r'col.?r',myStrings)"
   ]
  },
  {
   "cell_type": "code",
   "execution_count": 4,
   "metadata": {},
   "outputs": [
    {
     "data": {
      "text/plain": [
       "<_sre.SRE_Match object; span=(0, 5), match='color'>"
      ]
     },
     "execution_count": 4,
     "metadata": {},
     "output_type": "execute_result"
    }
   ],
   "source": [
    "import re\n",
    "myStrings = \"color colur colr\"\n",
    "re.search(r'col.?r',myStrings)"
   ]
  },
  {
   "cell_type": "code",
   "execution_count": 23,
   "metadata": {},
   "outputs": [
    {
     "name": "stdout",
     "output_type": "stream",
     "text": [
      "Full Match : 10-23-20\n",
      "Month : 10\n",
      "Date : 23\n",
      "Year : 20\n"
     ]
    }
   ],
   "source": [
    "import re\n",
    "myStrings = \"10-23-2017\"\n",
    "\n",
    "result = re.search(r'(\\d{2})\\-(\\d{2})\\-(\\d{2})',myStrings)\n",
    "\n",
    "whole = result.group(0)\n",
    "month  = result.group(1)\n",
    "date = result.group(2)\n",
    "year = result.group(3)\n",
    "\n",
    "print('Full Match :',whole)\n",
    "print('Month :',month)\n",
    "print('Date :',date)\n",
    "print('Year :',year)"
   ]
  },
  {
   "cell_type": "code",
   "execution_count": 24,
   "metadata": {},
   "outputs": [
    {
     "data": {
      "text/plain": [
       "['www.google.com', 'www.kernel.org', 'www.yahoo.co.in']"
      ]
     },
     "execution_count": 24,
     "metadata": {},
     "output_type": "execute_result"
    }
   ],
   "source": [
    "import re\n",
    "\n",
    "webaddress = \"\"\"\n",
    "             http://www.google.com \n",
    "             https://www.kernel.org \n",
    "             https://www.yahoo.co.in \n",
    "             www.google.co.in\n",
    "             \"\"\"\n",
    "\n",
    "re.findall(r'(?:https?)?\\:\\/\\/([\\w.]+)',webaddress)"
   ]
  },
  {
   "cell_type": "code",
   "execution_count": 28,
   "metadata": {},
   "outputs": [
    {
     "data": {
      "text/plain": [
       "<_sre.SRE_Match object; span=(3, 4), match='9'>"
      ]
     },
     "execution_count": 28,
     "metadata": {},
     "output_type": "execute_result"
    }
   ],
   "source": [
    "import re\n",
    "\n",
    "webaddress = \"\"\"\n",
    "             <h1>www.goole.com<\\h1>\n",
    "             \"\"\"\n",
    "\n",
    "re.search(r'.*?9','abc9def9ghi9jkl')"
   ]
  },
  {
   "cell_type": "code",
   "execution_count": 31,
   "metadata": {},
   "outputs": [
    {
     "data": {
      "text/plain": [
       "<_sre.SRE_Match object; span=(0, 5), match='sachu'>"
      ]
     },
     "execution_count": 31,
     "metadata": {},
     "output_type": "execute_result"
    }
   ],
   "source": [
    "import re\n",
    "\n",
    "\n",
    "re.search(r'\\Asachu\\Z','sachu')"
   ]
  },
  {
   "cell_type": "code",
   "execution_count": 66,
   "metadata": {},
   "outputs": [
    {
     "data": {
      "text/plain": [
       "['clado9', 'sachu8', 'student3', 'fuji2', 'alex3', 'robin6']"
      ]
     },
     "execution_count": 66,
     "metadata": {},
     "output_type": "execute_result"
    }
   ],
   "source": [
    "import re\n",
    "\n",
    "myString = \"clado9sachu8student3fuji22alex34robin6\"\n",
    "re.findall('(?=[a-z]+[0-9])[a-z]+[0-9]',myString)"
   ]
  },
  {
   "cell_type": "code",
   "execution_count": 88,
   "metadata": {},
   "outputs": [
    {
     "data": {
      "text/plain": [
       "['2clado', '9sachu', '8student', '3fuji', '2alex']"
      ]
     },
     "execution_count": 88,
     "metadata": {},
     "output_type": "execute_result"
    }
   ],
   "source": [
    "import re\n",
    "\n",
    "myString = \"2clado9sachu8student3fuji2alex34robin6\"\n",
    "re.findall('(?<![0-9])[0-9](?=[a-z]+)[a-z]+',myString)"
   ]
  },
  {
   "cell_type": "code",
   "execution_count": null,
   "metadata": {
    "collapsed": true
   },
   "outputs": [],
   "source": []
  },
  {
   "cell_type": "code",
   "execution_count": 6,
   "metadata": {},
   "outputs": [
    {
     "name": "stdout",
     "output_type": "stream",
     "text": [
      "Full Match : 10-23-2017\n",
      "Month : 10\n",
      "Date : 23\n",
      "Year : 2017\n"
     ]
    }
   ],
   "source": [
    "import re\n",
    "myStrings = \"10-23-2017\"\n",
    "\n",
    "result = re.search(r'(?P<month>\\d{2})\\-(?P<date>\\d{2})\\-(?P<year>\\d{4})',myStrings)\n",
    "\n",
    "whole = result.group(0)\n",
    "month  = result.group('month')\n",
    "date = result.group('date')\n",
    "year = result.group('year')\n",
    "\n",
    "print('Full Match :',whole)\n",
    "print('Month :',month)\n",
    "print('Date :',date)\n",
    "print('Year :',year)"
   ]
  },
  {
   "cell_type": "code",
   "execution_count": 10,
   "metadata": {},
   "outputs": [],
   "source": [
    "links = \"\"\"\n",
    "    http://www.google.com/index.html?name=10&student='name/'\n",
    "    http://www.clado.co.im/users.html?name=10&student='name/'\n",
    "    http://www.redhat.co.in/logs.html?name=10&student='name/'\n",
    "\"\"\"\n",
    "    "
   ]
  },
  {
   "cell_type": "code",
   "execution_count": 12,
   "metadata": {},
   "outputs": [
    {
     "name": "stdout",
     "output_type": "stream",
     "text": [
      "index.html?name=10&student='name'\n",
      "users.html?name=10&student='name'\n",
      "logs.html?name=10&student='name'\n"
     ]
    }
   ],
   "source": [
    "import re\n",
    "for link in links.split():\n",
    "    result = re.search('https?:\\/\\/(?P<domain>.*?)\\/(?P<qstring>.*)',link)\n",
    "    print(result.group('qstring'))"
   ]
  },
  {
   "cell_type": "code",
   "execution_count": 13,
   "metadata": {},
   "outputs": [
    {
     "data": {
      "text/plain": [
       "<_sre.SRE_Match object; span=(0, 1), match='c'>"
      ]
     },
     "execution_count": 13,
     "metadata": {},
     "output_type": "execute_result"
    }
   ],
   "source": [
    "import re\n",
    "re.search(r'[a-z]','clado')"
   ]
  },
  {
   "cell_type": "code",
   "execution_count": null,
   "metadata": {
    "collapsed": true
   },
   "outputs": [],
   "source": []
  }
 ],
 "metadata": {
  "kernelspec": {
   "display_name": "Python 3",
   "language": "python",
   "name": "python3"
  },
  "language_info": {
   "codemirror_mode": {
    "name": "ipython",
    "version": 3
   },
   "file_extension": ".py",
   "mimetype": "text/x-python",
   "name": "python",
   "nbconvert_exporter": "python",
   "pygments_lexer": "ipython3",
   "version": "3.6.1"
  }
 },
 "nbformat": 4,
 "nbformat_minor": 2
}
