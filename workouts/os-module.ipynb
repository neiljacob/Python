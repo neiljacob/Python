{
 "cells": [
  {
   "cell_type": "markdown",
   "metadata": {},
   "source": [
    "# Listing A Directory Contents : os.listdir()"
   ]
  },
  {
   "cell_type": "markdown",
   "metadata": {},
   "source": [
    " : os.listdir()  will return a list containing all the contents name."
   ]
  },
  {
   "cell_type": "code",
   "execution_count": null,
   "metadata": {},
   "outputs": [],
   "source": [
    "import os\n",
    "os.listdir('/var')"
   ]
  },
  {
   "cell_type": "markdown",
   "metadata": {},
   "source": [
    "# Creating A UNIX path using os.path.join()"
   ]
  },
  {
   "cell_type": "code",
   "execution_count": null,
   "metadata": {},
   "outputs": [],
   "source": [
    "import os\n",
    "dir_name = os.path.join('var','lib','mail')\n",
    "print(dir_name)"
   ]
  },
  {
   "cell_type": "markdown",
   "metadata": {},
   "source": [
    "# Striping Extra Slashes os.path.normpath()"
   ]
  },
  {
   "cell_type": "code",
   "execution_count": null,
   "metadata": {},
   "outputs": [],
   "source": [
    "import os\n",
    "os.path.normpath('/var//lib///mail')"
   ]
  },
  {
   "cell_type": "markdown",
   "metadata": {},
   "source": [
    "# Check the File type "
   ]
  },
  {
   "cell_type": "code",
   "execution_count": null,
   "metadata": {},
   "outputs": [],
   "source": [
    "\n",
    "import pathlib\n",
    "out1 = pathlib.Path('/etc').is_dir()\n",
    "print('Pathlib :',out1)\n",
    "\n",
    "import os\n",
    "out2 = os.path.isdir('/etc')\n",
    "print('Os :', out2)"
   ]
  },
  {
   "cell_type": "code",
   "execution_count": null,
   "metadata": {},
   "outputs": [],
   "source": [
    "import pathlib\n",
    "out = pathlib.Path('/etc').is_file()\n",
    "print(out)\n",
    "\n",
    "import os\n",
    "out = os.path.isfile('/etc')\n",
    "print(out)"
   ]
  },
  {
   "cell_type": "code",
   "execution_count": null,
   "metadata": {},
   "outputs": [],
   "source": [
    "import os\n",
    "os.path.exists('/a/b/c')"
   ]
  },
  {
   "cell_type": "raw",
   "metadata": {},
   "source": [
    "'''\n",
    "Path.is_dir()\n",
    "Path.is_file()\n",
    "Path.is_symlink()\n",
    "Path.is_socket()\n",
    "Path.is_fifo()\n",
    "Path.is_block_device()\n",
    "Path.is_char_device()\n",
    "'''\n"
   ]
  },
  {
   "cell_type": "markdown",
   "metadata": {},
   "source": [
    "# Listing All Directories of /etc"
   ]
  },
  {
   "cell_type": "code",
   "execution_count": null,
   "metadata": {},
   "outputs": [],
   "source": [
    "import os\n",
    "for content in os.listdir('/var'):\n",
    "    absPath = os.path.join('/var',content)\n",
    "    if os.path.isdir(absPath):\n",
    "        print(absPath)"
   ]
  },
  {
   "cell_type": "code",
   "execution_count": null,
   "metadata": {},
   "outputs": [],
   "source": [
    "import pathlib\n",
    "output = [ content for content in  os.listdir('/etc') if pathlib.Path( os.path.join('/etc',content)).is_dir() ]\n",
    "print(output)"
   ]
  },
  {
   "cell_type": "code",
   "execution_count": null,
   "metadata": {},
   "outputs": [],
   "source": [
    "import os\n",
    "output = [ os.path.join('/etc',content) for content in os.listdir('/etc') if os.path.isdir(os.path.join('/etc',content))]\n",
    "print(output)"
   ]
  },
  {
   "cell_type": "markdown",
   "metadata": {},
   "source": [
    "# Iterating A Directory Content\n"
   ]
  },
  {
   "cell_type": "code",
   "execution_count": null,
   "metadata": {},
   "outputs": [],
   "source": [
    "for content in pathlib.Path('/etc').iterdir():\n",
    "    print(content)"
   ]
  },
  {
   "cell_type": "markdown",
   "metadata": {},
   "source": [
    "# Checking If a PATH exist"
   ]
  },
  {
   "cell_type": "code",
   "execution_count": null,
   "metadata": {},
   "outputs": [],
   "source": [
    "import os\n",
    "import pathlib\n",
    "#pathlib.Path('/etc').exists()\n",
    "os.path.exists('/etc')"
   ]
  },
  {
   "cell_type": "markdown",
   "metadata": {},
   "source": [
    "# Expanding User Name"
   ]
  },
  {
   "cell_type": "code",
   "execution_count": null,
   "metadata": {},
   "outputs": [],
   "source": [
    "os.path.expanduser('~/ip.json')"
   ]
  },
  {
   "cell_type": "markdown",
   "metadata": {},
   "source": [
    "# Reading the Contents OF a File"
   ]
  },
  {
   "cell_type": "code",
   "execution_count": null,
   "metadata": {},
   "outputs": [],
   "source": [
    "print(pathlib.Path('/etc/passwd').read_text())"
   ]
  },
  {
   "cell_type": "markdown",
   "metadata": {},
   "source": [
    "# getting Current Working Directory"
   ]
  },
  {
   "cell_type": "code",
   "execution_count": 92,
   "metadata": {},
   "outputs": [
    {
     "name": "stdout",
     "output_type": "stream",
     "text": [
      "/private/etc\n"
     ]
    }
   ],
   "source": [
    "import os\n",
    "\n",
    "print(os.getcwd())"
   ]
  },
  {
   "cell_type": "markdown",
   "metadata": {},
   "source": [
    "# Chaning Working Directory"
   ]
  },
  {
   "cell_type": "code",
   "execution_count": 93,
   "metadata": {},
   "outputs": [
    {
     "data": {
      "text/plain": [
       "'/private/etc'"
      ]
     },
     "execution_count": 93,
     "metadata": {},
     "output_type": "execute_result"
    }
   ],
   "source": [
    "import os\n",
    "os.chdir('/etc')\n",
    "os.getcwd()"
   ]
  },
  {
   "cell_type": "markdown",
   "metadata": {},
   "source": [
    "### GEtting Inode Information"
   ]
  },
  {
   "cell_type": "code",
   "execution_count": 96,
   "metadata": {},
   "outputs": [
    {
     "name": "stdout",
     "output_type": "stream",
     "text": [
      "os.stat_result(st_mode=33188, st_ino=418600, st_dev=16777220, st_nlink=1, st_uid=0, st_gid=0, st_size=6393, st_atime=1507799656, st_mtime=1475104574, st_ctime=1484140608)\n"
     ]
    }
   ],
   "source": [
    "import os\n",
    "r = os.stat('/etc/passwd')\n",
    "print(r)"
   ]
  },
  {
   "cell_type": "code",
   "execution_count": 97,
   "metadata": {},
   "outputs": [
    {
     "name": "stdout",
     "output_type": "stream",
     "text": [
      "os.stat_result(st_mode=33188, st_ino=418600, st_dev=16777220, st_nlink=1, st_uid=0, st_gid=0, st_size=6393, st_atime=1507799656, st_mtime=1475104574, st_ctime=1484140608)\n",
      "----------------\n",
      "Inode Number : 418600\n",
      "Permission :  33188\n",
      "Owner : 0\n",
      "Group : 0\n",
      "Size : 6393\n",
      "Links : 1\n",
      "Atime : 1507799656.0\n",
      "Ctime : 1484140608.0\n",
      "Mtime : 1475104574.0\n",
      "-----------------\n",
      "0o100644\n"
     ]
    }
   ],
   "source": [
    "statInfo = os.stat('/etc/passwd')\n",
    "print(statInfo)\n",
    "print('----------------')\n",
    "print('Inode Number :',statInfo.st_ino)\n",
    "print('Permission : ', statInfo.st_mode)\n",
    "print('Owner :',statInfo.st_uid)\n",
    "print('Group :',statInfo.st_gid)\n",
    "print('Size :',statInfo.st_size)\n",
    "print('Links :',statInfo.st_nlink)\n",
    "print('Atime :',statInfo.st_atime)\n",
    "print('Ctime :',statInfo.st_ctime)\n",
    "print('Mtime :',statInfo.st_mtime)\n",
    "print('-----------------')\n",
    "print(oct(statInfo.st_mode))"
   ]
  },
  {
   "cell_type": "code",
   "execution_count": 98,
   "metadata": {},
   "outputs": [
    {
     "name": "stdout",
     "output_type": "stream",
     "text": [
      "os.stat_result(st_mode=16877, st_ino=418405, st_dev=16777220, st_nlink=89, st_uid=0, st_gid=0, st_size=3026, st_atime=1507799413, st_mtime=1507559739, st_ctime=1507559739)\n",
      "----------------\n",
      "Inode Number : 418405\n",
      "Permission :  16877\n",
      "Owner : 0\n",
      "Group : 0\n",
      "Size : 3026\n",
      "Links : 89\n",
      "Atime : 1507799413.0\n",
      "Ctime : 1507559739.0\n",
      "Mtime : 1507559739.0\n",
      "-----------------\n",
      "0o40755\n"
     ]
    }
   ],
   "source": [
    "statInfo = os.stat('/etc/')\n",
    "print(statInfo)\n",
    "print('----------------')\n",
    "print('Inode Number :',statInfo.st_ino)\n",
    "print('Permission : ', statInfo.st_mode)\n",
    "print('Owner :',statInfo.st_uid)\n",
    "print('Group :',statInfo.st_gid)\n",
    "print('Size :',statInfo.st_size)\n",
    "print('Links :',statInfo.st_nlink)\n",
    "print('Atime :',statInfo.st_atime)\n",
    "print('Ctime :',statInfo.st_ctime)\n",
    "print('Mtime :',statInfo.st_mtime)\n",
    "print('-----------------')\n",
    "print(oct(statInfo.st_mode))"
   ]
  },
  {
   "cell_type": "code",
   "execution_count": null,
   "metadata": {},
   "outputs": [],
   "source": [
    "val = '0o10644'\n",
    "\n",
    "def get_permission(val):\n",
    "    s_per =  val[2:4] if len(val) == 8 else val[2]    \n",
    "    return  s_per\n",
    "\n",
    "get_permission(val)   "
   ]
  },
  {
   "cell_type": "code",
   "execution_count": null,
   "metadata": {},
   "outputs": [],
   "source": [
    "import os\n",
    "\n",
    "for rootDir,subDirs,subFiles in os.walk('/var'):\n",
    "    for file in subFiles:\n",
    "        absPath = os.path.join(rootDir,file)\n",
    "        print(absPath)"
   ]
  },
  {
   "cell_type": "code",
   "execution_count": null,
   "metadata": {},
   "outputs": [],
   "source": [
    "import os\n",
    "\n",
    "for rootDir,subDirs,subFiles in os.walk('/var'):\n",
    "    for dir_name in subDirs:\n",
    "        absPath = os.path.join(rootDir,dir_name)\n",
    "        print(absPath)"
   ]
  },
  {
   "cell_type": "code",
   "execution_count": null,
   "metadata": {},
   "outputs": [],
   "source": [
    "statInfo = os.stat('/usr/bin/vim')\n",
    "print(statInfo)\n",
    "print('----------------')\n",
    "print('Inode Number :',statInfo.st_ino)\n",
    "print('Permission : ', statInfo.st_mode)\n",
    "print('Owner :',statInfo.st_uid)\n",
    "print('Group :',statInfo.st_gid)\n",
    "print('Size :',statInfo.st_size)\n",
    "print('Links :',statInfo.st_nlink)\n",
    "print('Atime :',statInfo.st_atime)\n",
    "print('Ctime :',statInfo.st_ctime)\n",
    "print('Mtime :',statInfo.st_mtime)\n",
    "print('-----------------')\n",
    "print(oct(statInfo.st_mode))"
   ]
  },
  {
   "cell_type": "code",
   "execution_count": null,
   "metadata": {},
   "outputs": [],
   "source": [
    "statInfo = os.lstat('/usr/bin/vi')\n",
    "print(statInfo)\n",
    "print('----------------')\n",
    "print('Inode Number :',statInfo.st_ino)\n",
    "print('Permission : ', statInfo.st_mode)\n",
    "print('Owner :',statInfo.st_uid)\n",
    "print('Group :',statInfo.st_gid)\n",
    "print('Size :',statInfo.st_size)\n",
    "print('Links :',statInfo.st_nlink)\n",
    "print('Atime :',statInfo.st_atime)\n",
    "print('Ctime :',statInfo.st_ctime)\n",
    "print('Mtime :',statInfo.st_mtime)\n",
    "print('-----------------')\n",
    "print(oct(statInfo.st_mode))"
   ]
  },
  {
   "cell_type": "code",
   "execution_count": null,
   "metadata": {},
   "outputs": [],
   "source": [
    "import pwd\n",
    "dir(pwd)"
   ]
  },
  {
   "cell_type": "code",
   "execution_count": 100,
   "metadata": {},
   "outputs": [
    {
     "name": "stdout",
     "output_type": "stream",
     "text": [
      "pwd.struct_passwd(pw_name='root', pw_passwd='*', pw_uid=0, pw_gid=0, pw_gecos='System Administrator', pw_dir='/var/root', pw_shell='/bin/sh')\n",
      "---------------\n",
      "0\n",
      "/var/root\n",
      "/bin/sh\n",
      "---------------\n"
     ]
    }
   ],
   "source": [
    "userInfo = pwd.getpwnam('root')\n",
    "print(userInfo)\n",
    "print('---------------')\n",
    "print(userInfo.pw_uid)\n",
    "print(userInfo.pw_dir)\n",
    "print(userInfo.pw_shell)\n",
    "print('---------------')"
   ]
  },
  {
   "cell_type": "code",
   "execution_count": null,
   "metadata": {},
   "outputs": [],
   "source": [
    "userInfo.pw_name"
   ]
  },
  {
   "cell_type": "code",
   "execution_count": 101,
   "metadata": {},
   "outputs": [
    {
     "name": "stdout",
     "output_type": "stream",
     "text": [
      "pwd.struct_passwd(pw_name='root', pw_passwd='*', pw_uid=0, pw_gid=0, pw_gecos='System Administrator', pw_dir='/var/root', pw_shell='/bin/sh')\n",
      "---------------\n",
      "0\n",
      "/var/root\n",
      "/bin/sh\n",
      "---------------\n"
     ]
    }
   ],
   "source": [
    "userInfo = pwd.getpwuid(0)\n",
    "print(userInfo)\n",
    "print('---------------')\n",
    "print(userInfo.pw_uid)\n",
    "print(userInfo.pw_dir)\n",
    "print(userInfo.pw_shell)\n",
    "print('---------------')"
   ]
  },
  {
   "cell_type": "code",
   "execution_count": null,
   "metadata": {},
   "outputs": [],
   "source": [
    "import grp\n",
    "dir(grp)"
   ]
  },
  {
   "cell_type": "code",
   "execution_count": 102,
   "metadata": {},
   "outputs": [
    {
     "name": "stdout",
     "output_type": "stream",
     "text": [
      "grp.struct_group(gr_name='wheel', gr_passwd='*', gr_gid=0, gr_mem=['root'])\n"
     ]
    }
   ],
   "source": [
    "gInfo = grp.getgrnam('wheel')\n",
    "print(gInfo)"
   ]
  },
  {
   "cell_type": "code",
   "execution_count": 103,
   "metadata": {},
   "outputs": [
    {
     "name": "stdout",
     "output_type": "stream",
     "text": [
      "grp.struct_group(gr_name='wheel', gr_passwd='*', gr_gid=0, gr_mem=['root'])\n"
     ]
    }
   ],
   "source": [
    "gInfo = grp.getgrgid(0)\n",
    "print(gInfo)"
   ]
  },
  {
   "cell_type": "code",
   "execution_count": 105,
   "metadata": {},
   "outputs": [
    {
     "ename": "FileExistsError",
     "evalue": "[Errno 17] File exists: '/tmp/data'",
     "output_type": "error",
     "traceback": [
      "\u001b[0;31m---------------------------------------------------------------------------\u001b[0m",
      "\u001b[0;31mFileExistsError\u001b[0m                           Traceback (most recent call last)",
      "\u001b[0;32m<ipython-input-105-676069341de6>\u001b[0m in \u001b[0;36m<module>\u001b[0;34m()\u001b[0m\n\u001b[1;32m      1\u001b[0m \u001b[0;32mimport\u001b[0m \u001b[0mos\u001b[0m\u001b[0;34m\u001b[0m\u001b[0m\n\u001b[0;32m----> 2\u001b[0;31m \u001b[0mos\u001b[0m\u001b[0;34m.\u001b[0m\u001b[0mmkdir\u001b[0m\u001b[0;34m(\u001b[0m\u001b[0;34m'/tmp/data'\u001b[0m\u001b[0;34m)\u001b[0m\u001b[0;34m\u001b[0m\u001b[0m\n\u001b[0m",
      "\u001b[0;31mFileExistsError\u001b[0m: [Errno 17] File exists: '/tmp/data'"
     ]
    }
   ],
   "source": [
    "import os\n",
    "os.mkdir('/tmp/data')"
   ]
  },
  {
   "cell_type": "code",
   "execution_count": null,
   "metadata": {},
   "outputs": [],
   "source": [
    "os.makedirs('/tmp/data/d1/d2/d3')"
   ]
  },
  {
   "cell_type": "code",
   "execution_count": null,
   "metadata": {
    "collapsed": true
   },
   "outputs": [],
   "source": [
    "os.chown?"
   ]
  },
  {
   "cell_type": "code",
   "execution_count": null,
   "metadata": {},
   "outputs": [],
   "source": [
    "os.chown('/tmp/data',0,-1)\n",
    "os.chown('/tmp/data',-1,456)"
   ]
  },
  {
   "cell_type": "code",
   "execution_count": null,
   "metadata": {},
   "outputs": [],
   "source": [
    "os.rmdir?"
   ]
  },
  {
   "cell_type": "code",
   "execution_count": null,
   "metadata": {},
   "outputs": [],
   "source": [
    "os.removedirs('/tmp/data/')"
   ]
  },
  {
   "cell_type": "code",
   "execution_count": null,
   "metadata": {
    "collapsed": true
   },
   "outputs": [],
   "source": []
  }
 ],
 "metadata": {
  "kernelspec": {
   "display_name": "Python 3",
   "language": "python",
   "name": "python3"
  },
  "language_info": {
   "codemirror_mode": {
    "name": "ipython",
    "version": 3
   },
   "file_extension": ".py",
   "mimetype": "text/x-python",
   "name": "python",
   "nbconvert_exporter": "python",
   "pygments_lexer": "ipython3",
   "version": "3.6.1"
  }
 },
 "nbformat": 4,
 "nbformat_minor": 2
}
