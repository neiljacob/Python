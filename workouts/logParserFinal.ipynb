{
 "cells": [
  {
   "cell_type": "raw",
   "metadata": {},
   "source": [
    "\n",
    "'''\n",
    "ip_hists = collections.Counter()\n",
    "with open(FILE_LOCATION) as fh:\n",
    "    for line in fh:\n",
    "        parse_items = parse_log_line(line)\n",
    "        if parse_items['host'] not in ('::1','127.0.0.1'):\n",
    "            ip_hists.update((parse_items['host'],))\n",
    "            \n",
    "print('')\n",
    "print('Top 10 IP-Address')\n",
    "print('')\n",
    "for ip,hit in ip_hists.most_common(10):\n",
    "    print('{:<16}{:^3}{}'.format(ip,':',hit))\n",
    "\n",
    "del ip_hists\n",
    "'''\n",
    "\n",
    "'''\n",
    "\n",
    "\n",
    "'''\n",
    "\n",
    "ip_hists = collections.Counter()\n",
    "with open(FILE_LOCATION) as fh:\n",
    "    for line in fh:\n",
    "        parse_items = parse_log_line(line)\n",
    "        if parse_items['host'] not in ('::1','127.0.0.1'):\n",
    "            ip_hists.update((parse_items['host'],))\n",
    "            \n",
    "print('')\n",
    "print('Hourly Hit Count')\n",
    "print('')\n",
    "\n",
    "'''\n",
    "\n",
    "\n"
   ]
  },
  {
   "cell_type": "code",
   "execution_count": 1,
   "metadata": {
    "collapsed": true
   },
   "outputs": [],
   "source": [
    "import re\n",
    "import time\n",
    "import collections\n",
    "\n",
    "\n",
    "IP = r'(?P<HOST>.*?)'\n",
    "SPACE = r'\\s+'\n",
    "DASH = r'\\S+'\n",
    "TIMESTAMP = r'(?P<TIMESTAMP>\\[.*?\\])'\n",
    "REQUEST = r'(?P<REQUEST>\\\".*?\\\")'\n",
    "STATUS = r'(?P<STATUS>\\d{3})'\n",
    "SIZE = r'(?P<SIZE>-|\\d+)'\n",
    "\n",
    "FILE_LOCATION = '/Users/fujikomalan/Documents/access_log'\n",
    "\n",
    "def parse_log_line(LOG_LINE):\n",
    "    result = re.search(IP+SPACE+DASH+SPACE+DASH+SPACE+TIMESTAMP+SPACE+REQUEST+SPACE+STATUS+SPACE+SIZE+SPACE,LOG_LINE)\n",
    "    host = result.group('HOST')\n",
    "    time = result.group('TIMESTAMP')\n",
    "    request = result.group('REQUEST')\n",
    "    status = result.group('STATUS')\n",
    "    size = result.group('SIZE')\n",
    "    return {'host':host , 'time':time , 'request':request , 'status':status , 'size':size}\n"
   ]
  },
  {
   "cell_type": "markdown",
   "metadata": {},
   "source": [
    "### TOP 10 IP-ADDRESS FROM MOST HITS RECEIVED"
   ]
  },
  {
   "cell_type": "code",
   "execution_count": 34,
   "metadata": {},
   "outputs": [
    {
     "name": "stdout",
     "output_type": "stream",
     "text": [
      "\n",
      "TOP 10 IP-ADDRESS FROM MOST HITS RECEIVED\n",
      "-----------------------------------------\n",
      "\n",
      "149.202.89.239   : 2104\n",
      "81.138.141.38    : 167\n",
      "79.137.67.130    : 110\n",
      "157.55.39.62     : 108\n",
      "82.36.170.105    : 93\n",
      "124.205.209.4    : 85\n",
      "52.74.21.59      : 85\n",
      "155.133.45.237   : 85\n",
      "124.42.118.111   : 85\n",
      "185.165.41.171   : 85\n"
     ]
    }
   ],
   "source": [
    "ipCounter = collections.Counter()\n",
    "\n",
    "with open(FILE_LOCATION) as fh:\n",
    "    for line in fh:\n",
    "        parse_items = parse_log_line(line)\n",
    "        if parse_items['host'] not in ('::1','127.0.0.1'):\n",
    "            ipCounter.update((parse_items['host'],))\n",
    "            \n",
    "print('')\n",
    "msg='Top 10 IP-Address from most hits received'\n",
    "print(msg.upper())\n",
    "print('-'*len(msg))\n",
    "print('')\n",
    "\n",
    "for ip,hit in ipCounter.most_common(10):\n",
    "    print('{:<16}{:^3}{}'.format(ip,':',hit))"
   ]
  },
  {
   "cell_type": "markdown",
   "metadata": {},
   "source": [
    "### DAY WISE HIT COUNTS"
   ]
  },
  {
   "cell_type": "code",
   "execution_count": 39,
   "metadata": {},
   "outputs": [
    {
     "name": "stdout",
     "output_type": "stream",
     "text": [
      "\n",
      "DAY WISE HIT COUNTS\n",
      "-------------------\n",
      "\n",
      "24/Mar/2017 : 1165\n",
      "28/Mar/2017 : 807\n",
      "30/Mar/2017 : 887\n",
      "31/Mar/2017 : 944\n",
      "04/Apr/2017 : 729\n",
      "\n"
     ]
    }
   ],
   "source": [
    "import datetime\n",
    "\n",
    "day_hit_counter = collections.Counter()\n",
    "with open(FILE_LOCATION) as fh:\n",
    "    for line in fh:\n",
    "        parse_items = parse_log_line(line)\n",
    "        if parse_items['host'] not in ('::1','127.0.0.1'):\n",
    "            timestamp = parse_items['time']  # [24/Mar/2017:19:40:06 +0000]\n",
    "            date = timestamp[1:12]\n",
    "            day_hit_counter.update((date,))\n",
    "            \n",
    "print('')\n",
    "msg='Day wise hit counts'\n",
    "print(msg.upper())\n",
    "print('-'*len(msg))\n",
    "print('')\n",
    "\n",
    "\n",
    "def convert_date_format(t):   \n",
    "    return datetime.datetime.strptime(t[0], \"%d/%b/%Y\")\n",
    "\n",
    "#for date,hit in sorted(day_hit_counter.most_common(5) , key=lambda t : datetime.datetime.strptime(t[0],\"%d/%b/%Y\")):\n",
    "for date,hit in sorted(day_hit_counter.most_common(5) , key=convert_date_format):\n",
    "    print('{:<11}{:^3}{}'.format(date,':',hit))\n",
    "    \n",
    "print('')    "
   ]
  },
  {
   "cell_type": "code",
   "execution_count": 47,
   "metadata": {},
   "outputs": [
    {
     "name": "stdout",
     "output_type": "stream",
     "text": [
      "\n",
      "HOURLY HIT COUNTER\n",
      "------------------\n",
      "\n",
      "19  : 135\n",
      "20  : 504\n",
      "21  : 266\n",
      "22  : 152\n",
      "23  : 108\n"
     ]
    }
   ],
   "source": [
    "import collections\n",
    "import pprint\n",
    "\n",
    "hourly_counter = collections.Counter()\n",
    "\n",
    "def day_details(DAY):\n",
    "    with open(FILE_LOCATION) as fh:\n",
    "        for line in fh:\n",
    "            parse_items = parse_log_line(line)\n",
    "            time_stamp = parse_items['time'] #[24/Mar/2017:19:40:06 +0000]\n",
    "            date = time_stamp[1:12]\n",
    "            hour = time_stamp[13:15]\n",
    "            host = parse_items['host']\n",
    "            if DAY == date and host not in ('::1','127.0.0.1'):  \n",
    "                hourly_counter.update((int(hour),))\n",
    "                \n",
    "    for hour,hit in  sorted(hourly_counter.items() ,key=lambda t: t[0]):\n",
    "        print('{:<3}{:^3}{}'.format(hour,':',hit))\n",
    "    \n",
    "    \n",
    "print('')\n",
    "msg='hourly hit counter'\n",
    "print(msg.upper())\n",
    "print('-'*len(msg))\n",
    "print('')\n",
    "\n",
    "day_details('24/Mar/2017')\n"
   ]
  },
  {
   "cell_type": "code",
   "execution_count": 50,
   "metadata": {},
   "outputs": [
    {
     "name": "stdout",
     "output_type": "stream",
     "text": [
      "\n",
      "TOP 10 IP-ADDRESS FROM MOST HITS RECEIVED\n",
      "-----------------------------------------\n",
      "\n",
      "149.202.89.239  FR : 2104\n",
      "81.138.141.38   GB : 167\n",
      "79.137.67.130   FR : 110\n",
      "157.55.39.62    US : 108\n",
      "82.36.170.105   GB : 93\n",
      "124.205.209.4   CN : 85\n",
      "52.74.21.59     SG : 85\n",
      "155.133.45.237  PL : 85\n",
      "124.42.118.111  CN : 85\n",
      "185.165.41.171  IR : 85\n"
     ]
    }
   ],
   "source": [
    "import collections\n",
    "import requests\n",
    "\n",
    "\n",
    "ipCounter = collections.Counter()\n",
    "\n",
    "def get_country_name(IP):\n",
    "    search_string = 'https://freegeoip.net/json/'+IP\n",
    "    reply = requests.get(search_string)\n",
    "    if reply.status_code == 200:\n",
    "        return reply.json()['country_code']\n",
    "    else:\n",
    "        return '--'\n",
    "     \n",
    "\n",
    "with open(FILE_LOCATION) as fh:\n",
    "    for line in fh:\n",
    "        parse_items = parse_log_line(line)\n",
    "        if parse_items['host'] not in ('::1','127.0.0.1'):\n",
    "            ipCounter.update((parse_items['host'],))\n",
    "            \n",
    "print('')\n",
    "msg='Top 10 IP-Address from most hits received'\n",
    "print(msg.upper())\n",
    "print('-'*len(msg))\n",
    "print('')\n",
    "\n",
    "for ip,hit in ipCounter.most_common(10):\n",
    "    cc = get_country_name(ip)\n",
    "    print('{:<16}{:<2}{:^3}{}'.format(ip,cc,':',hit) )\n",
    "    \n",
    "print('')    "
   ]
  },
  {
   "cell_type": "code",
   "execution_count": null,
   "metadata": {
    "collapsed": true
   },
   "outputs": [],
   "source": []
  }
 ],
 "metadata": {
  "kernelspec": {
   "display_name": "Python 3",
   "language": "python",
   "name": "python3"
  },
  "language_info": {
   "codemirror_mode": {
    "name": "ipython",
    "version": 3
   },
   "file_extension": ".py",
   "mimetype": "text/x-python",
   "name": "python",
   "nbconvert_exporter": "python",
   "pygments_lexer": "ipython3",
   "version": "3.6.1"
  }
 },
 "nbformat": 4,
 "nbformat_minor": 2
}
