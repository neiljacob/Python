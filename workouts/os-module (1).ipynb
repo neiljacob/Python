{
 "cells": [
  {
   "cell_type": "markdown",
   "metadata": {},
   "source": [
    "# Listing A Directory Contents : os.listdir()"
   ]
  },
  {
   "cell_type": "markdown",
   "metadata": {},
   "source": [
    " : os.listdir()  will return a list containing all the contents name."
   ]
  },
  {
   "cell_type": "code",
   "execution_count": 2,
   "metadata": {},
   "outputs": [
    {
     "data": {
      "text/plain": [
       "['agentx',\n",
       " 'at',\n",
       " 'audit',\n",
       " 'backups',\n",
       " 'db',\n",
       " 'empty',\n",
       " 'folders',\n",
       " 'jabberd',\n",
       " 'lib',\n",
       " 'log',\n",
       " 'ma',\n",
       " 'mail',\n",
       " 'msgs',\n",
       " 'netboot',\n",
       " 'networkd',\n",
       " 'root',\n",
       " 'rpc',\n",
       " 'run',\n",
       " 'rwho',\n",
       " 'spool',\n",
       " 'tmp',\n",
       " 'vm',\n",
       " 'yp']"
      ]
     },
     "execution_count": 2,
     "metadata": {},
     "output_type": "execute_result"
    }
   ],
   "source": [
    "import os\n",
    "os.listdir('/var')"
   ]
  },
  {
   "cell_type": "markdown",
   "metadata": {},
   "source": [
    "# Creating A UNIX path using os.path.join()"
   ]
  },
  {
   "cell_type": "code",
   "execution_count": 5,
   "metadata": {},
   "outputs": [
    {
     "name": "stdout",
     "output_type": "stream",
     "text": [
      "/var/lib/mail\n"
     ]
    }
   ],
   "source": [
    "import os\n",
    "dir_name = os.path.join('/var','lib','mail')\n",
    "print(dir_name)"
   ]
  },
  {
   "cell_type": "markdown",
   "metadata": {},
   "source": [
    "# Striping Extra Slashes os.path.normpath()"
   ]
  },
  {
   "cell_type": "code",
   "execution_count": 9,
   "metadata": {},
   "outputs": [
    {
     "data": {
      "text/plain": [
       "'/var/lib/mail'"
      ]
     },
     "execution_count": 9,
     "metadata": {},
     "output_type": "execute_result"
    }
   ],
   "source": [
    "import os\n",
    "os.path.normpath('/var//lib/mail')"
   ]
  },
  {
   "cell_type": "markdown",
   "metadata": {},
   "source": [
    "# Check the File type of the Content"
   ]
  },
  {
   "cell_type": "code",
   "execution_count": 12,
   "metadata": {},
   "outputs": [
    {
     "name": "stdout",
     "output_type": "stream",
     "text": [
      "Pathlib : True\n",
      "Os : True\n"
     ]
    }
   ],
   "source": [
    "import pathlib\n",
    "out1 = pathlib.Path('/etc').is_dir()\n",
    "print('Pathlib :',out1)\n",
    "\n",
    "import os\n",
    "out2 = os.path.isdir('/etc')\n",
    "print('Os :', out2)"
   ]
  },
  {
   "cell_type": "code",
   "execution_count": 7,
   "metadata": {},
   "outputs": [
    {
     "data": {
      "text/plain": [
       "False"
      ]
     },
     "execution_count": 7,
     "metadata": {},
     "output_type": "execute_result"
    }
   ],
   "source": [
    "import pathlib\n",
    "pathlib.Path('/etc').is_file()"
   ]
  },
  {
   "cell_type": "code",
   "execution_count": 8,
   "metadata": {},
   "outputs": [
    {
     "data": {
      "text/plain": [
       "False"
      ]
     },
     "execution_count": 8,
     "metadata": {},
     "output_type": "execute_result"
    }
   ],
   "source": [
    "import pathlib\n",
    "pathlib.Path('/ect/passwd').is_file()"
   ]
  },
  {
   "cell_type": "raw",
   "metadata": {},
   "source": [
    "'''\n",
    "Path.is_dir()\n",
    "Path.is_file()\n",
    "Path.is_symlink()\n",
    "Path.is_socket()\n",
    "Path.is_fifo()\n",
    "Path.is_block_device()\n",
    "Path.is_char_device()\n",
    "'''\n"
   ]
  },
  {
   "cell_type": "markdown",
   "metadata": {},
   "source": [
    "# Listing All Directories of /etc"
   ]
  },
  {
   "cell_type": "code",
   "execution_count": 13,
   "metadata": {},
   "outputs": [
    {
     "name": "stdout",
     "output_type": "stream",
     "text": [
      "/etc/apache2\n",
      "/etc/asl\n",
      "/etc/cups\n",
      "/etc/defaults\n",
      "/etc/emond.d\n",
      "/etc/mach_init.d\n",
      "/etc/mach_init_per_login_session.d\n",
      "/etc/mach_init_per_user.d\n",
      "/etc/manpaths.d\n",
      "/etc/newsyslog.d\n",
      "/etc/openldap\n",
      "/etc/pam.d\n",
      "/etc/paths.d\n",
      "/etc/periodic\n",
      "/etc/pf.anchors\n",
      "/etc/postfix\n",
      "/etc/ppp\n",
      "/etc/racoon\n",
      "/etc/security\n",
      "/etc/snmp\n",
      "/etc/ssh\n",
      "/etc/ssl\n",
      "/etc/sudoers.d\n"
     ]
    }
   ],
   "source": [
    "import os\n",
    "import pathlib\n",
    "\n",
    "for content in os.listdir('/etc'):\n",
    "    abs_path = os.path.join('/etc',content)\n",
    "    if pathlib.Path(abs_path).is_dir():\n",
    "        print(abs_path)"
   ]
  },
  {
   "cell_type": "code",
   "execution_count": 14,
   "metadata": {},
   "outputs": [
    {
     "name": "stdout",
     "output_type": "stream",
     "text": [
      "/etc/apache2\n",
      "/etc/asl\n",
      "/etc/cups\n",
      "/etc/defaults\n",
      "/etc/emond.d\n",
      "/etc/mach_init.d\n",
      "/etc/mach_init_per_login_session.d\n",
      "/etc/mach_init_per_user.d\n",
      "/etc/manpaths.d\n",
      "/etc/newsyslog.d\n",
      "/etc/openldap\n",
      "/etc/pam.d\n",
      "/etc/paths.d\n",
      "/etc/periodic\n",
      "/etc/pf.anchors\n",
      "/etc/postfix\n",
      "/etc/ppp\n",
      "/etc/racoon\n",
      "/etc/security\n",
      "/etc/snmp\n",
      "/etc/ssh\n",
      "/etc/ssl\n",
      "/etc/sudoers.d\n"
     ]
    }
   ],
   "source": [
    "import os\n",
    "import pathlib\n",
    "\n",
    "for content in os.listdir('/etc'):\n",
    "    abs_path = os.path.join('/etc',content)\n",
    "    if os.path.isdir(abs_path):\n",
    "        print(abs_path)\n",
    "        "
   ]
  },
  {
   "cell_type": "code",
   "execution_count": 18,
   "metadata": {},
   "outputs": [
    {
     "name": "stdout",
     "output_type": "stream",
     "text": [
      "['apache2', 'asl', 'cups', 'defaults', 'emond.d', 'mach_init.d', 'mach_init_per_login_session.d', 'mach_init_per_user.d', 'manpaths.d', 'newsyslog.d', 'openldap', 'pam.d', 'paths.d', 'periodic', 'pf.anchors', 'postfix', 'ppp', 'racoon', 'security', 'snmp', 'ssh', 'ssl', 'sudoers.d']\n"
     ]
    }
   ],
   "source": [
    "import pathlib\n",
    "output = [ content for content in  os.listdir('/etc') if pathlib.Path( os.path.join('/etc',content)).is_dir() ]\n",
    "print(output)"
   ]
  },
  {
   "cell_type": "markdown",
   "metadata": {},
   "source": [
    "# Iterating A Directory Content\n"
   ]
  },
  {
   "cell_type": "code",
   "execution_count": 22,
   "metadata": {},
   "outputs": [
    {
     "name": "stdout",
     "output_type": "stream",
     "text": [
      "/etc/afpovertcp.cfg\n",
      "/etc/aliases\n",
      "/etc/aliases.db\n",
      "/etc/apache2\n",
      "/etc/asl\n",
      "/etc/asl.conf\n",
      "/etc/auto_home\n",
      "/etc/auto_master\n",
      "/etc/autofs.conf\n",
      "/etc/bashrc\n",
      "/etc/bashrc_Apple_Terminal\n",
      "/etc/com.apple.IPConfiguration.plist\n",
      "/etc/com.apple.screensharing.agent.launchd\n",
      "/etc/csh.cshrc\n",
      "/etc/csh.login\n",
      "/etc/csh.logout\n",
      "/etc/cups\n",
      "/etc/defaults\n",
      "/etc/dnsextd.conf\n",
      "/etc/emond.d\n",
      "/etc/find.codes\n",
      "/etc/fstab.hd\n",
      "/etc/ftpd.conf\n",
      "/etc/ftpd.conf.default\n",
      "/etc/ftpusers\n",
      "/etc/gettytab\n",
      "/etc/group\n",
      "/etc/hosts\n",
      "/etc/hosts.equiv\n",
      "/etc/irbrc\n",
      "/etc/kern_loader.conf\n",
      "/etc/krb5.keytab\n",
      "/etc/localtime\n",
      "/etc/locate.rc\n",
      "/etc/mach_init.d\n",
      "/etc/mach_init_per_login_session.d\n",
      "/etc/mach_init_per_user.d\n",
      "/etc/mail.rc\n",
      "/etc/man.conf\n",
      "/etc/manpaths\n",
      "/etc/manpaths.d\n",
      "/etc/master.passwd\n",
      "/etc/nanorc\n",
      "/etc/networks\n",
      "/etc/newsyslog.conf\n",
      "/etc/newsyslog.d\n",
      "/etc/nfs.conf\n",
      "/etc/notify.conf\n",
      "/etc/ntp-restrict.conf\n",
      "/etc/ntp.conf\n",
      "/etc/ntp_opendirectory.conf\n",
      "/etc/openldap\n",
      "/etc/pam.d\n",
      "/etc/passwd\n",
      "/etc/paths\n",
      "/etc/paths.d\n",
      "/etc/periodic\n",
      "/etc/pf.anchors\n",
      "/etc/pf.conf\n",
      "/etc/pf.os\n",
      "/etc/php-fpm.conf.default\n",
      "/etc/php.ini.default\n",
      "/etc/postfix\n",
      "/etc/ppp\n",
      "/etc/profile\n",
      "/etc/protocols\n",
      "/etc/racoon\n",
      "/etc/rc.common\n",
      "/etc/rc.netboot\n",
      "/etc/resolv.conf\n",
      "/etc/rmtab\n",
      "/etc/rpc\n",
      "/etc/rtadvd.conf\n",
      "/etc/security\n",
      "/etc/services\n",
      "/etc/shells\n",
      "/etc/snmp\n",
      "/etc/ssh\n",
      "/etc/ssl\n",
      "/etc/sudo_lecture\n",
      "/etc/sudoers\n",
      "/etc/sudoers.d\n",
      "/etc/syslog.conf\n",
      "/etc/ttys\n",
      "/etc/xtab\n",
      "/etc/zprofile\n",
      "/etc/zshrc\n"
     ]
    }
   ],
   "source": [
    "for content in pathlib.Path('/etc').iterdir():\n",
    "    print(content)"
   ]
  },
  {
   "cell_type": "markdown",
   "metadata": {},
   "source": [
    "# Checking If a PATH exist"
   ]
  },
  {
   "cell_type": "code",
   "execution_count": 17,
   "metadata": {},
   "outputs": [
    {
     "data": {
      "text/plain": [
       "True"
      ]
     },
     "execution_count": 17,
     "metadata": {},
     "output_type": "execute_result"
    }
   ],
   "source": [
    "import os\n",
    "import pathlib\n",
    "#pathlib.Path('/etc').exists()\n",
    "os.path.exists('/etc')"
   ]
  },
  {
   "cell_type": "markdown",
   "metadata": {},
   "source": [
    "# Expanding User Name"
   ]
  },
  {
   "cell_type": "code",
   "execution_count": 31,
   "metadata": {},
   "outputs": [
    {
     "data": {
      "text/plain": [
       "'/Users/fujikomalan/ip.json'"
      ]
     },
     "execution_count": 31,
     "metadata": {},
     "output_type": "execute_result"
    }
   ],
   "source": [
    "os.path.expanduser('~/ip.json')"
   ]
  },
  {
   "cell_type": "markdown",
   "metadata": {},
   "source": [
    "# Reading the Contents OF a File"
   ]
  },
  {
   "cell_type": "code",
   "execution_count": 33,
   "metadata": {},
   "outputs": [
    {
     "name": "stdout",
     "output_type": "stream",
     "text": [
      "##\n",
      "# User Database\n",
      "# \n",
      "# Note that this file is consulted directly only when the system is running\n",
      "# in single-user mode.  At other times this information is provided by\n",
      "# Open Directory.\n",
      "#\n",
      "# See the opendirectoryd(8) man page for additional information about\n",
      "# Open Directory.\n",
      "##\n",
      "nobody:*:-2:-2:Unprivileged User:/var/empty:/usr/bin/false\n",
      "root:*:0:0:System Administrator:/var/root:/bin/sh\n",
      "daemon:*:1:1:System Services:/var/root:/usr/bin/false\n",
      "_uucp:*:4:4:Unix to Unix Copy Protocol:/var/spool/uucp:/usr/sbin/uucico\n",
      "_taskgated:*:13:13:Task Gate Daemon:/var/empty:/usr/bin/false\n",
      "_networkd:*:24:24:Network Services:/var/networkd:/usr/bin/false\n",
      "_installassistant:*:25:25:Install Assistant:/var/empty:/usr/bin/false\n",
      "_lp:*:26:26:Printing Services:/var/spool/cups:/usr/bin/false\n",
      "_postfix:*:27:27:Postfix Mail Server:/var/spool/postfix:/usr/bin/false\n",
      "_scsd:*:31:31:Service Configuration Service:/var/empty:/usr/bin/false\n",
      "_ces:*:32:32:Certificate Enrollment Service:/var/empty:/usr/bin/false\n",
      "_mcxalr:*:54:54:MCX AppLaunch:/var/empty:/usr/bin/false\n",
      "_appleevents:*:55:55:AppleEvents Daemon:/var/empty:/usr/bin/false\n",
      "_geod:*:56:56:Geo Services Daemon:/var/db/geod:/usr/bin/false\n",
      "_serialnumberd:*:58:58:Serial Number Daemon:/var/empty:/usr/bin/false\n",
      "_devdocs:*:59:59:Developer Documentation:/var/empty:/usr/bin/false\n",
      "_sandbox:*:60:60:Seatbelt:/var/empty:/usr/bin/false\n",
      "_mdnsresponder:*:65:65:mDNSResponder:/var/empty:/usr/bin/false\n",
      "_ard:*:67:67:Apple Remote Desktop:/var/empty:/usr/bin/false\n",
      "_www:*:70:70:World Wide Web Server:/Library/WebServer:/usr/bin/false\n",
      "_eppc:*:71:71:Apple Events User:/var/empty:/usr/bin/false\n",
      "_cvs:*:72:72:CVS Server:/var/empty:/usr/bin/false\n",
      "_svn:*:73:73:SVN Server:/var/empty:/usr/bin/false\n",
      "_mysql:*:74:74:MySQL Server:/var/empty:/usr/bin/false\n",
      "_sshd:*:75:75:sshd Privilege separation:/var/empty:/usr/bin/false\n",
      "_qtss:*:76:76:QuickTime Streaming Server:/var/empty:/usr/bin/false\n",
      "_cyrus:*:77:6:Cyrus Administrator:/var/imap:/usr/bin/false\n",
      "_mailman:*:78:78:Mailman List Server:/var/empty:/usr/bin/false\n",
      "_appserver:*:79:79:Application Server:/var/empty:/usr/bin/false\n",
      "_clamav:*:82:82:ClamAV Daemon:/var/virusmails:/usr/bin/false\n",
      "_amavisd:*:83:83:AMaViS Daemon:/var/virusmails:/usr/bin/false\n",
      "_jabber:*:84:84:Jabber XMPP Server:/var/empty:/usr/bin/false\n",
      "_appowner:*:87:87:Application Owner:/var/empty:/usr/bin/false\n",
      "_windowserver:*:88:88:WindowServer:/var/empty:/usr/bin/false\n",
      "_spotlight:*:89:89:Spotlight:/var/empty:/usr/bin/false\n",
      "_tokend:*:91:91:Token Daemon:/var/empty:/usr/bin/false\n",
      "_securityagent:*:92:92:SecurityAgent:/var/db/securityagent:/usr/bin/false\n",
      "_calendar:*:93:93:Calendar:/var/empty:/usr/bin/false\n",
      "_teamsserver:*:94:94:TeamsServer:/var/teamsserver:/usr/bin/false\n",
      "_update_sharing:*:95:-2:Update Sharing:/var/empty:/usr/bin/false\n",
      "_installer:*:96:-2:Installer:/var/empty:/usr/bin/false\n",
      "_atsserver:*:97:97:ATS Server:/var/empty:/usr/bin/false\n",
      "_ftp:*:98:-2:FTP Daemon:/var/empty:/usr/bin/false\n",
      "_unknown:*:99:99:Unknown User:/var/empty:/usr/bin/false\n",
      "_softwareupdate:*:200:200:Software Update Service:/var/empty:/usr/bin/false\n",
      "_coreaudiod:*:202:202:Core Audio Daemon:/var/empty:/usr/bin/false\n",
      "_screensaver:*:203:203:Screensaver:/var/empty:/usr/bin/false\n",
      "_locationd:*:205:205:Location Daemon:/var/db/locationd:/usr/bin/false\n",
      "_trustevaluationagent:*:208:208:Trust Evaluation Agent:/var/empty:/usr/bin/false\n",
      "_timezone:*:210:210:AutoTimeZoneDaemon:/var/empty:/usr/bin/false\n",
      "_lda:*:211:211:Local Delivery Agent:/var/empty:/usr/bin/false\n",
      "_cvmsroot:*:212:212:CVMS Root:/var/empty:/usr/bin/false\n",
      "_usbmuxd:*:213:213:iPhone OS Device Helper:/var/db/lockdown:/usr/bin/false\n",
      "_dovecot:*:214:6:Dovecot Administrator:/var/empty:/usr/bin/false\n",
      "_dpaudio:*:215:215:DP Audio:/var/empty:/usr/bin/false\n",
      "_postgres:*:216:216:PostgreSQL Server:/var/empty:/usr/bin/false\n",
      "_krbtgt:*:217:-2:Kerberos Ticket Granting Ticket:/var/empty:/usr/bin/false\n",
      "_kadmin_admin:*:218:-2:Kerberos Admin Service:/var/empty:/usr/bin/false\n",
      "_kadmin_changepw:*:219:-2:Kerberos Change Password Service:/var/empty:/usr/bin/false\n",
      "_devicemgr:*:220:220:Device Management Server:/var/empty:/usr/bin/false\n",
      "_webauthserver:*:221:221:Web Auth Server:/var/empty:/usr/bin/false\n",
      "_netbios:*:222:222:NetBIOS:/var/empty:/usr/bin/false\n",
      "_warmd:*:224:224:Warm Daemon:/var/empty:/usr/bin/false\n",
      "_dovenull:*:227:227:Dovecot Authentication:/var/empty:/usr/bin/false\n",
      "_netstatistics:*:228:228:Network Statistics Daemon:/var/empty:/usr/bin/false\n",
      "_avbdeviced:*:229:-2:Ethernet AVB Device Daemon:/var/empty:/usr/bin/false\n",
      "_krb_krbtgt:*:230:-2:Open Directory Kerberos Ticket Granting Ticket:/var/empty:/usr/bin/false\n",
      "_krb_kadmin:*:231:-2:Open Directory Kerberos Admin Service:/var/empty:/usr/bin/false\n",
      "_krb_changepw:*:232:-2:Open Directory Kerberos Change Password Service:/var/empty:/usr/bin/false\n",
      "_krb_kerberos:*:233:-2:Open Directory Kerberos:/var/empty:/usr/bin/false\n",
      "_krb_anonymous:*:234:-2:Open Directory Kerberos Anonymous:/var/empty:/usr/bin/false\n",
      "_assetcache:*:235:235:Asset Cache Service:/var/empty:/usr/bin/false\n",
      "_coremediaiod:*:236:236:Core Media IO Daemon:/var/empty:/usr/bin/false\n",
      "_launchservicesd:*:239:239:_launchservicesd:/var/empty:/usr/bin/false\n",
      "_iconservices:*:240:240:IconServices:/var/empty:/usr/bin/false\n",
      "_distnote:*:241:241:DistNote:/var/empty:/usr/bin/false\n",
      "_nsurlsessiond:*:242:242:NSURLSession Daemon:/var/db/nsurlsessiond:/usr/bin/false\n",
      "_nsurlstoraged:*:243:243:NSURLStorage Daemon:/var/empty:/usr/bin/false\n",
      "_displaypolicyd:*:244:244:Display Policy Daemon:/var/empty:/usr/bin/false\n",
      "_astris:*:245:245:Astris Services:/var/db/astris:/usr/bin/false\n",
      "_krbfast:*:246:-2:Kerberos FAST Account:/var/empty:/usr/bin/false\n",
      "_gamecontrollerd:*:247:247:Game Controller Daemon:/var/empty:/usr/bin/false\n",
      "_mbsetupuser:*:248:248:Setup User:/var/setup:/bin/bash\n",
      "_ondemand:*:249:249:On Demand Resource Daemon:/var/db/ondemand:/usr/bin/false\n",
      "_xserverdocs:*:251:251:macOS Server Documents Service:/var/empty:/usr/bin/false\n",
      "_wwwproxy:*:252:252:WWW Proxy:/var/empty:/usr/bin/false\n",
      "_mobileasset:*:253:253:MobileAsset User:/var/ma:/usr/bin/false\n",
      "_findmydevice:*:254:254:Find My Device Daemon:/var/db/findmydevice:/usr/bin/false\n",
      "_datadetectors:*:257:257:DataDetectors:/var/db/datadetectors:/usr/bin/false\n",
      "_captiveagent:*:258:258:captiveagent:/var/empty:/usr/bin/false\n",
      "_ctkd:*:259:259:ctkd Account:/var/empty:/usr/bin/false\n",
      "_applepay:*:260:260:applepay Account:/var/db/applepay:/usr/bin/false\n",
      "_hidd:*:261:261:HID Service User:/var/empty:/usr/bin/false\n",
      "\n"
     ]
    }
   ],
   "source": [
    "print(pathlib.Path('/etc/passwd').read_text())"
   ]
  },
  {
   "cell_type": "markdown",
   "metadata": {},
   "source": [
    "# getting Current Working Directory"
   ]
  },
  {
   "cell_type": "code",
   "execution_count": 19,
   "metadata": {},
   "outputs": [
    {
     "name": "stdout",
     "output_type": "stream",
     "text": [
      "/Users/fujikomalan\n"
     ]
    }
   ],
   "source": [
    "import os\n",
    "\n",
    "print(os.getcwd())"
   ]
  },
  {
   "cell_type": "markdown",
   "metadata": {},
   "source": [
    "# Chaning Working Directory"
   ]
  },
  {
   "cell_type": "code",
   "execution_count": 20,
   "metadata": {},
   "outputs": [
    {
     "data": {
      "text/plain": [
       "'/private/etc'"
      ]
     },
     "execution_count": 20,
     "metadata": {},
     "output_type": "execute_result"
    }
   ],
   "source": [
    "import os\n",
    "os.chdir('/etc')\n",
    "os.getcwd()"
   ]
  },
  {
   "cell_type": "code",
   "execution_count": 30,
   "metadata": {},
   "outputs": [
    {
     "name": "stdout",
     "output_type": "stream",
     "text": [
      "os.stat_result(st_mode=33188, st_ino=418600, st_dev=16777220, st_nlink=1, st_uid=0, st_gid=0, st_size=6393, st_atime=1507637534, st_mtime=1475104574, st_ctime=1484140608)\n",
      "----------------\n",
      "Inode Number : 418600\n",
      "Permission :  33188\n",
      "Owner : 0\n",
      "Group : 0\n",
      "Size : 6393\n",
      "Links : 1\n",
      "Atime : 1507637534.0\n",
      "Ctime : 1484140608.0\n",
      "Mtime : 1475104574.0\n",
      "-----------------\n",
      "0o100644\n"
     ]
    }
   ],
   "source": [
    "statInfo = os.stat('/etc/passwd')\n",
    "print(statInfo)\n",
    "print('----------------')\n",
    "print('Inode Number :',statInfo.st_ino)\n",
    "print('Permission : ', statInfo.st_mode)\n",
    "print('Owner :',statInfo.st_uid)\n",
    "print('Group :',statInfo.st_gid)\n",
    "print('Size :',statInfo.st_size)\n",
    "print('Links :',statInfo.st_nlink)\n",
    "print('Atime :',statInfo.st_atime)\n",
    "print('Ctime :',statInfo.st_ctime)\n",
    "print('Mtime :',statInfo.st_mtime)\n",
    "print('-----------------')\n",
    "print(oct(statInfo.st_mode))"
   ]
  },
  {
   "cell_type": "code",
   "execution_count": 31,
   "metadata": {},
   "outputs": [
    {
     "name": "stdout",
     "output_type": "stream",
     "text": [
      "os.stat_result(st_mode=16877, st_ino=418405, st_dev=16777220, st_nlink=89, st_uid=0, st_gid=0, st_size=3026, st_atime=1507704257, st_mtime=1507559739, st_ctime=1507559739)\n",
      "----------------\n",
      "Inode Number : 418405\n",
      "Permission :  16877\n",
      "Owner : 0\n",
      "Group : 0\n",
      "Size : 3026\n",
      "Links : 89\n",
      "Atime : 1507704257.0\n",
      "Ctime : 1507559739.0\n",
      "Mtime : 1507559739.0\n",
      "-----------------\n",
      "0o40755\n"
     ]
    }
   ],
   "source": [
    "statInfo = os.stat('/etc/')\n",
    "print(statInfo)\n",
    "print('----------------')\n",
    "print('Inode Number :',statInfo.st_ino)\n",
    "print('Permission : ', statInfo.st_mode)\n",
    "print('Owner :',statInfo.st_uid)\n",
    "print('Group :',statInfo.st_gid)\n",
    "print('Size :',statInfo.st_size)\n",
    "print('Links :',statInfo.st_nlink)\n",
    "print('Atime :',statInfo.st_atime)\n",
    "print('Ctime :',statInfo.st_ctime)\n",
    "print('Mtime :',statInfo.st_mtime)\n",
    "print('-----------------')\n",
    "print(oct(statInfo.st_mode))"
   ]
  },
  {
   "cell_type": "code",
   "execution_count": 39,
   "metadata": {},
   "outputs": [
    {
     "data": {
      "text/plain": [
       "'1'"
      ]
     },
     "execution_count": 39,
     "metadata": {},
     "output_type": "execute_result"
    }
   ],
   "source": [
    "val = '0o10644'\n",
    "\n",
    "def get_permission(val):\n",
    "    s_per =  val[2:4] if len(val) == 8 else val[2]    \n",
    "    return  s_per\n",
    "\n",
    "get_permission(val)   "
   ]
  },
  {
   "cell_type": "code",
   "execution_count": null,
   "metadata": {
    "collapsed": true
   },
   "outputs": [],
   "source": []
  }
 ],
 "metadata": {
  "kernelspec": {
   "display_name": "Python 3",
   "language": "python",
   "name": "python3"
  },
  "language_info": {
   "codemirror_mode": {
    "name": "ipython",
    "version": 3
   },
   "file_extension": ".py",
   "mimetype": "text/x-python",
   "name": "python",
   "nbconvert_exporter": "python",
   "pygments_lexer": "ipython3",
   "version": "3.6.1"
  }
 },
 "nbformat": 4,
 "nbformat_minor": 2
}
