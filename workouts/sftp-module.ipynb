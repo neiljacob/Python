{
 "cells": [
  {
   "cell_type": "markdown",
   "metadata": {},
   "source": [
    "pip3 install pysftp"
   ]
  },
  {
   "cell_type": "code",
   "execution_count": 6,
   "metadata": {
    "collapsed": true
   },
   "outputs": [],
   "source": [
    "HOST = '192.168.0.25'\n",
    "PORT = 22\n",
    "USER = 'vm'\n",
    "PASSWORD = 'clado123'"
   ]
  },
  {
   "cell_type": "code",
   "execution_count": 5,
   "metadata": {
    "collapsed": true
   },
   "outputs": [],
   "source": [
    "import pysftp"
   ]
  },
  {
   "cell_type": "code",
   "execution_count": 10,
   "metadata": {},
   "outputs": [],
   "source": [
    "cnopts = pysftp.CnOpts()\n",
    "cnopts.hostkeys = None \n",
    "\n",
    "sftp = pysftp.Connection(HOST,username=USER,port=PORT,password=PASSWORD,cnopts=cnopts)"
   ]
  },
  {
   "cell_type": "code",
   "execution_count": 11,
   "metadata": {},
   "outputs": [
    {
     "data": {
      "text/plain": [
       "['__class__',\n",
       " '__del__',\n",
       " '__delattr__',\n",
       " '__dict__',\n",
       " '__dir__',\n",
       " '__doc__',\n",
       " '__enter__',\n",
       " '__eq__',\n",
       " '__exit__',\n",
       " '__format__',\n",
       " '__ge__',\n",
       " '__getattribute__',\n",
       " '__gt__',\n",
       " '__hash__',\n",
       " '__init__',\n",
       " '__init_subclass__',\n",
       " '__le__',\n",
       " '__lt__',\n",
       " '__module__',\n",
       " '__ne__',\n",
       " '__new__',\n",
       " '__reduce__',\n",
       " '__reduce_ex__',\n",
       " '__repr__',\n",
       " '__setattr__',\n",
       " '__sizeof__',\n",
       " '__str__',\n",
       " '__subclasshook__',\n",
       " '__weakref__',\n",
       " '_cnopts',\n",
       " '_default_path',\n",
       " '_set_authentication',\n",
       " '_set_logging',\n",
       " '_set_username',\n",
       " '_sftp',\n",
       " '_sftp_connect',\n",
       " '_sftp_live',\n",
       " '_start_transport',\n",
       " '_tconnect',\n",
       " '_transport',\n",
       " 'active_ciphers',\n",
       " 'active_compression',\n",
       " 'cd',\n",
       " 'chdir',\n",
       " 'chmod',\n",
       " 'chown',\n",
       " 'close',\n",
       " 'cwd',\n",
       " 'execute',\n",
       " 'exists',\n",
       " 'get',\n",
       " 'get_d',\n",
       " 'get_r',\n",
       " 'getcwd',\n",
       " 'getfo',\n",
       " 'isdir',\n",
       " 'isfile',\n",
       " 'lexists',\n",
       " 'listdir',\n",
       " 'listdir_attr',\n",
       " 'logfile',\n",
       " 'lstat',\n",
       " 'makedirs',\n",
       " 'mkdir',\n",
       " 'normalize',\n",
       " 'open',\n",
       " 'put',\n",
       " 'put_d',\n",
       " 'put_r',\n",
       " 'putfo',\n",
       " 'pwd',\n",
       " 'readlink',\n",
       " 'remote_server_key',\n",
       " 'remove',\n",
       " 'rename',\n",
       " 'rmdir',\n",
       " 'security_options',\n",
       " 'sftp_client',\n",
       " 'stat',\n",
       " 'symlink',\n",
       " 'timeout',\n",
       " 'truncate',\n",
       " 'unlink',\n",
       " 'walktree']"
      ]
     },
     "execution_count": 11,
     "metadata": {},
     "output_type": "execute_result"
    }
   ],
   "source": [
    "dir(sftp)"
   ]
  },
  {
   "cell_type": "code",
   "execution_count": 12,
   "metadata": {},
   "outputs": [
    {
     "data": {
      "text/plain": [
       "'/home/vm'"
      ]
     },
     "execution_count": 12,
     "metadata": {},
     "output_type": "execute_result"
    }
   ],
   "source": [
    "sftp.pwd"
   ]
  },
  {
   "cell_type": "code",
   "execution_count": 15,
   "metadata": {},
   "outputs": [
    {
     "data": {
      "text/plain": [
       "'/tmp'"
      ]
     },
     "execution_count": 15,
     "metadata": {},
     "output_type": "execute_result"
    }
   ],
   "source": [
    "sftp.cwd('/tmp')\n",
    "sftp.pwd"
   ]
  },
  {
   "cell_type": "code",
   "execution_count": 16,
   "metadata": {
    "collapsed": true
   },
   "outputs": [],
   "source": [
    "sftp.mkdir('/tmp/backup')"
   ]
  },
  {
   "cell_type": "code",
   "execution_count": 18,
   "metadata": {},
   "outputs": [
    {
     "data": {
      "text/plain": [
       "[]"
      ]
     },
     "execution_count": 18,
     "metadata": {},
     "output_type": "execute_result"
    }
   ],
   "source": [
    "sftp.listdir('/tmp/backup')"
   ]
  },
  {
   "cell_type": "code",
   "execution_count": 19,
   "metadata": {
    "collapsed": true
   },
   "outputs": [],
   "source": [
    "sftp.makedirs('/tmp/backup/d1/d2/d3')"
   ]
  },
  {
   "cell_type": "code",
   "execution_count": 20,
   "metadata": {},
   "outputs": [
    {
     "data": {
      "text/plain": [
       "['d1']"
      ]
     },
     "execution_count": 20,
     "metadata": {},
     "output_type": "execute_result"
    }
   ],
   "source": [
    "sftp.listdir('/tmp/backup')"
   ]
  },
  {
   "cell_type": "code",
   "execution_count": 22,
   "metadata": {},
   "outputs": [
    {
     "data": {
      "text/plain": [
       "<SFTPAttributes: [ size=6393 uid=1000 gid=1000 mode=0o100664 atime=1509443960 mtime=1509443960 ]>"
      ]
     },
     "execution_count": 22,
     "metadata": {},
     "output_type": "execute_result"
    }
   ],
   "source": [
    "\n",
    "rmtBackupDir = '/home/vm/mydata'\n",
    "\n",
    "sftp.put('/etc/passwd',rmtBackupDir)"
   ]
  },
  {
   "cell_type": "code",
   "execution_count": 29,
   "metadata": {},
   "outputs": [],
   "source": [
    "\n",
    "rmtBackupDir = '/home/vm/mydata'\n",
    "if not sftp.exists(rmtBackupDir):\n",
    "    sftp.makedirs(rmtBackupDir)\n",
    "sftp.cwd(rmtBackupDir)    \n",
    "sftp.put('/etc/passwd')\n",
    "sftp.close()"
   ]
  },
  {
   "cell_type": "code",
   "execution_count": null,
   "metadata": {
    "collapsed": true
   },
   "outputs": [],
   "source": []
  },
  {
   "cell_type": "code",
   "execution_count": 30,
   "metadata": {},
   "outputs": [
    {
     "data": {
      "text/plain": [
       "'/home/vm'"
      ]
     },
     "execution_count": 30,
     "metadata": {},
     "output_type": "execute_result"
    }
   ],
   "source": [
    "cnopts = pysftp.CnOpts()\n",
    "cnopts.hostkeys = None \n",
    "\n",
    "sftp = pysftp.Connection(HOST,username=USER,port=PORT,password=PASSWORD,cnopts=cnopts)\n",
    "backupDir = '/home/vm/mydata'\n",
    "\n",
    "old_loc = sftp.pwd\n",
    "if not sftp.exists(backupDir):\n",
    "    sftp.makedirs(backupDir)\n",
    "sftp.cwd(backupDir)\n",
    "sftp.put('/etc/passwd')\n",
    "\n",
    "sftp.cwd(old_loc)\n",
    "sftp.pwd\n"
   ]
  },
  {
   "cell_type": "code",
   "execution_count": 31,
   "metadata": {},
   "outputs": [
    {
     "name": "stdout",
     "output_type": "stream",
     "text": [
      "adduser.conf\n",
      "apg.conf\n",
      "appstream.conf\n",
      "brltty.conf\n",
      "ca-certificates.conf\n",
      "debconf.conf\n",
      "deluser.conf\n",
      "ffserver.conf\n",
      "fuse.conf\n",
      "fwupd.conf\n",
      "gai.conf\n",
      "hdparm.conf\n",
      "host.conf\n",
      "insserv.conf\n",
      "kernel-img.conf\n",
      "kerneloops.conf\n",
      "ld.so.conf\n",
      "libao.conf\n",
      "libaudit.conf\n",
      "logrotate.conf\n",
      "ltrace.conf\n",
      "mke2fs.conf\n",
      "mtools.conf\n",
      "nsswitch.conf\n",
      "pam.conf\n",
      "pnm2ppa.conf\n",
      "popularity-contest.conf\n",
      "resolv.conf\n",
      "rsyslog.conf\n",
      "sensors3.conf\n",
      "signond.conf\n",
      "sysctl.conf\n",
      "ucf.conf\n",
      "updatedb.conf\n",
      "usb_modeswitch.conf\n",
      "vsftpd.conf\n"
     ]
    }
   ],
   "source": [
    "for f in sftp.listdir('/etc'):\n",
    "    if f.endswith('.conf'):\n",
    "        print(f)"
   ]
  },
  {
   "cell_type": "code",
   "execution_count": 32,
   "metadata": {
    "collapsed": true
   },
   "outputs": [],
   "source": [
    "sftp.remove('/home/vm/mydata/passwd')"
   ]
  },
  {
   "cell_type": "code",
   "execution_count": 33,
   "metadata": {},
   "outputs": [
    {
     "data": {
      "text/plain": [
       "[]"
      ]
     },
     "execution_count": 33,
     "metadata": {},
     "output_type": "execute_result"
    }
   ],
   "source": [
    "sftp.listdir('/home/vm/mydata')"
   ]
  },
  {
   "cell_type": "code",
   "execution_count": 39,
   "metadata": {},
   "outputs": [],
   "source": [
    "sftp.rmdir('/home/vm/mydata/d1')"
   ]
  },
  {
   "cell_type": "code",
   "execution_count": 43,
   "metadata": {},
   "outputs": [
    {
     "data": {
      "text/plain": [
       "[]"
      ]
     },
     "execution_count": 43,
     "metadata": {},
     "output_type": "execute_result"
    }
   ],
   "source": [
    "sftp.execute('rm -rf /home/vm/mydata')"
   ]
  },
  {
   "cell_type": "code",
   "execution_count": 44,
   "metadata": {
    "collapsed": true
   },
   "outputs": [],
   "source": [
    "sftp.get?"
   ]
  },
  {
   "cell_type": "code",
   "execution_count": 49,
   "metadata": {},
   "outputs": [],
   "source": [
    "import os \n",
    "\n",
    "old_cwd = sftp.pwd\n",
    "os.chdir(old_cwd)\n",
    "sftp.get('/home/vm/longlist.py')\n",
    "sftp.cwd(old_cwd)"
   ]
  },
  {
   "cell_type": "code",
   "execution_count": null,
   "metadata": {
    "collapsed": true
   },
   "outputs": [],
   "source": []
  }
 ],
 "metadata": {
  "kernelspec": {
   "display_name": "Python 3",
   "language": "python",
   "name": "python3"
  },
  "language_info": {
   "codemirror_mode": {
    "name": "ipython",
    "version": 3
   },
   "file_extension": ".py",
   "mimetype": "text/x-python",
   "name": "python",
   "nbconvert_exporter": "python",
   "pygments_lexer": "ipython3",
   "version": "3.6.1"
  }
 },
 "nbformat": 4,
 "nbformat_minor": 2
}
