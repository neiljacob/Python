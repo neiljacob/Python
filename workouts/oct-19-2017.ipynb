{
 "cells": [
  {
   "cell_type": "markdown",
   "metadata": {},
   "source": [
    "# Introduction To while loop."
   ]
  },
  {
   "cell_type": "raw",
   "metadata": {},
   "source": [
    "while Condition:\n",
    "    Body"
   ]
  },
  {
   "cell_type": "markdown",
   "metadata": {},
   "source": [
    "# While True Loop/ Never Ending Loop"
   ]
  },
  {
   "cell_type": "raw",
   "metadata": {},
   "source": [
    "while True:\n",
    "    print('Never Ending Loop..!')\n",
    "    \n",
    "while 1:\n",
    "    print('Never Ending Loop..!')\n",
    "    \n",
    "while 1==1:\n",
    "    print('Never Ending Loop..!')\n",
    "    "
   ]
  },
  {
   "cell_type": "markdown",
   "metadata": {},
   "source": [
    "# This loop will run every 2 sec"
   ]
  },
  {
   "cell_type": "raw",
   "metadata": {},
   "source": [
    "import time\n",
    "while True:\n",
    "    print('Never Ending Loop..!')\n",
    "    time.sleep(2)"
   ]
  },
  {
   "cell_type": "code",
   "execution_count": 6,
   "metadata": {},
   "outputs": [
    {
     "name": "stdout",
     "output_type": "stream",
     "text": [
      "1\n",
      "2\n",
      "3\n",
      "4\n",
      "5\n",
      "6\n",
      "7\n",
      "8\n",
      "9\n",
      "10\n"
     ]
    }
   ],
   "source": [
    "counter = 1\n",
    "while counter <= 10:\n",
    "    print(counter)\n",
    "    counter += 1 \n",
    "    \n"
   ]
  },
  {
   "cell_type": "markdown",
   "metadata": {},
   "source": [
    "# Creating Menu Using While"
   ]
  },
  {
   "cell_type": "code",
   "execution_count": null,
   "metadata": {
    "collapsed": true
   },
   "outputs": [],
   "source": [
    "\"\"\"\n",
    "\n",
    "import subprocess\n",
    "def make_header(header):\n",
    "    subprocess.call('clear'.split())\n",
    "    print('')\n",
    "    print(header.upper())\n",
    "    print('-' * len(header))\n",
    "    print('')\n",
    "\n",
    "\n",
    "while True:\n",
    "    make_header('menu driven python script')\n",
    "    print('1.To Print Disk Usage.')\n",
    "    print('2.To Print Memory Usage.')\n",
    "    print('3.To Print Routing Table.')\n",
    "    print('4.Exit')\n",
    "    SELECTION = input('Select One Operation : ')\n",
    "    if SELECTION:\n",
    "        if SELECTION == '1':\n",
    "            make_header('disk usage of server')\n",
    "            subprocess.call('df -h'.split())\n",
    "            input()\n",
    "\n",
    "        elif SELECTION == '2':\n",
    "            make_header('Memory usage information')\n",
    "            subprocess.call('free -m'.split())\n",
    "            input()\n",
    "\n",
    "        elif SELECTION == '3':\n",
    "            make_header('routing table information')\n",
    "            subprocess.call('route'.split())\n",
    "            input()\n",
    "            \n",
    "        elif SELECTION == '4':\n",
    "            break\n",
    "            \n",
    "        else:\n",
    "            print('Invalid Selection Number') \n",
    "    else:\n",
    "        print('Invalid Selection')\n",
    "        \n",
    "\"\"\""
   ]
  },
  {
   "cell_type": "markdown",
   "metadata": {},
   "source": [
    "# Checking Hash Values"
   ]
  },
  {
   "cell_type": "code",
   "execution_count": 11,
   "metadata": {},
   "outputs": [
    {
     "data": {
      "text/plain": [
       "'d9099cd0d3e6cb47fe3a9b0e631901fa'"
      ]
     },
     "execution_count": 11,
     "metadata": {},
     "output_type": "execute_result"
    }
   ],
   "source": [
    "import hashlib\n",
    "hashObj = hashlib.md5()\n",
    "hashObj.update(open('/etc/passwd','rb').read())\n",
    "hashObj.hexdigest()"
   ]
  },
  {
   "cell_type": "code",
   "execution_count": 17,
   "metadata": {},
   "outputs": [
    {
     "data": {
      "text/plain": [
       "'d9099cd0d3e6cb47fe3a9b0e631901fa'"
      ]
     },
     "execution_count": 17,
     "metadata": {},
     "output_type": "execute_result"
    }
   ],
   "source": [
    "import hashlib\n",
    "hashObj = hashlib.md5()\n",
    "\n",
    "CHUNK = 1024\n",
    "with open('/etc/passwd','rb') as fh:\n",
    "    while True:\n",
    "        data = fh.read(CHUNK)\n",
    "        if not data:\n",
    "            break\n",
    "        hashObj.update(data)\n",
    "        \n",
    "hashObj.hexdigest()            "
   ]
  },
  {
   "cell_type": "code",
   "execution_count": null,
   "metadata": {
    "collapsed": true
   },
   "outputs": [],
   "source": []
  }
 ],
 "metadata": {
  "kernelspec": {
   "display_name": "Python 3",
   "language": "python",
   "name": "python3"
  },
  "language_info": {
   "codemirror_mode": {
    "name": "ipython",
    "version": 3
   },
   "file_extension": ".py",
   "mimetype": "text/x-python",
   "name": "python",
   "nbconvert_exporter": "python",
   "pygments_lexer": "ipython3",
   "version": "3.6.1"
  }
 },
 "nbformat": 4,
 "nbformat_minor": 2
}
